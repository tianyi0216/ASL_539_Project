{
 "cells": [
  {
   "cell_type": "markdown",
   "metadata": {},
   "source": [
    "## Data Preprocessing Part"
   ]
  },
  {
   "cell_type": "code",
   "execution_count": 3,
   "metadata": {},
   "outputs": [],
   "source": [
    "# imports\n",
    "import pandas as pd\n",
    "from PIL import Image\n",
    "from torchvision.models.detection import fasterrcnn_resnet50_fpn\n",
    "from torchvision.models.detection.faster_rcnn import FastRCNNPredictor\n",
    "from torch.utils.data import DataLoader, Dataset\n",
    "import torchvision.transforms as transforms\n",
    "import os"
   ]
  },
  {
   "cell_type": "code",
   "execution_count": 11,
   "metadata": {},
   "outputs": [
    {
     "name": "stdout",
     "output_type": "stream",
     "text": [
      "372 416 372 416\n"
     ]
    }
   ],
   "source": [
    "# check dimensions of images\n",
    "\n",
    "min_width = 10000000\n",
    "max_width = 0\n",
    "\n",
    "min_height = 10000000\n",
    "max_height = 0\n",
    "\n",
    "for file in os.listdir('data/train'):\n",
    "    if file == '_annotations.csv':\n",
    "        continue\n",
    "    img = Image.open('data/train/' + file)\n",
    "    width, height = img.size\n",
    "    if width < min_width:\n",
    "        min_width = width\n",
    "    if width > max_width:\n",
    "        max_width = width\n",
    "    if height < min_height:\n",
    "        min_height = height\n",
    "    if height > max_height:\n",
    "        max_height = height\n",
    "\n",
    "print(min_width, max_width, min_height, max_height)"
   ]
  },
  {
   "cell_type": "code",
   "execution_count": null,
   "metadata": {},
   "outputs": [],
   "source": [
    "# 372 416 372 416"
   ]
  }
 ],
 "metadata": {
  "kernelspec": {
   "display_name": "base",
   "language": "python",
   "name": "python3"
  },
  "language_info": {
   "codemirror_mode": {
    "name": "ipython",
    "version": 3
   },
   "file_extension": ".py",
   "mimetype": "text/x-python",
   "name": "python",
   "nbconvert_exporter": "python",
   "pygments_lexer": "ipython3",
   "version": "3.11.4"
  }
 },
 "nbformat": 4,
 "nbformat_minor": 2
}
