{
 "cells": [
  {
   "cell_type": "markdown",
   "metadata": {},
   "source": [
    "## Data Preprocessing Part"
   ]
  },
  {
   "cell_type": "code",
   "execution_count": 1,
   "metadata": {},
   "outputs": [
    {
     "name": "stdout",
     "output_type": "stream",
     "text": [
      "c:\\Users\\frank\\projects\\ASL_539_Project\\.venv\\Scripts\\python.exe\n"
     ]
    }
   ],
   "source": [
    "# imports\n",
    "import sys\n",
    "print(sys.executable)\n",
    "import os\n",
    "import pandas as pd\n",
    "import numpy as np\n",
    "from PIL import Image\n",
    "from torchvision.models.detection import fasterrcnn_resnet50_fpn\n",
    "from torchvision.models.detection.faster_rcnn import FastRCNNPredictor\n",
    "from torch.utils.data import DataLoader, Dataset\n",
    "import torchvision.transforms as transforms\n",
    "import torch\n",
    "import torchvision\n",
    "import torch.optim as optim\n",
    "from tqdm import tqdm\n",
    "from torchvision.ops import box_iou\n"
   ]
  },
  {
   "cell_type": "code",
   "execution_count": 2,
   "metadata": {},
   "outputs": [
    {
     "name": "stdout",
     "output_type": "stream",
     "text": [
      "2.1.0+cu121\n",
      "cuda\n",
      "12.1\n",
      "0\n",
      "NVIDIA GeForce RTX 3070 Ti\n",
      "12010\n"
     ]
    }
   ],
   "source": [
    "# check if cuda is available\n",
    "device = torch.device('cuda') if torch.cuda.is_available() else torch.device('cpu')\n",
    "\n",
    "print(torch.__version__)\n",
    "print(device)\n",
    "if device.type == 'cuda':\n",
    "    print(torch.version.cuda)\n",
    "    print(torch.cuda.current_device())\n",
    "    print(torch.cuda.get_device_name(torch.cuda.current_device()))\n",
    "    print(torch._C._cuda_getCompiledVersion())\n"
   ]
  },
  {
   "cell_type": "code",
   "execution_count": 3,
   "metadata": {},
   "outputs": [
    {
     "name": "stdout",
     "output_type": "stream",
     "text": [
      "Number of training, validation and testing samples\n",
      "1512\n",
      "144\n",
      "72\n",
      "min and max width and height of training images:  512 512 512 512\n",
      "min and max width and height of validation images:  512 512 512 512\n",
      "min and max width and height of testing images:  512 512 512 512\n"
     ]
    }
   ],
   "source": [
    "# load in data\n",
    "\n",
    "train_annotation = pd.read_csv('data/train/_annotations.csv')\n",
    "val_annotation = pd.read_csv('data/valid/_annotations.csv')\n",
    "test_annotation = pd.read_csv('data/test/_annotations.csv')\n",
    "\n",
    "# print the number of samples of the data\n",
    "print(\"Number of training, validation and testing samples\")\n",
    "print(len(train_annotation))\n",
    "print(len(val_annotation))\n",
    "print(len(test_annotation))\n",
    "\n",
    "# check the dimension of image is the same\n",
    "print(\"min and max width and height of training images: \", train_annotation['width'].min(), train_annotation['width'].max(), train_annotation['height'].min(), train_annotation['height'].max())\n",
    "print(\"min and max width and height of validation images: \", val_annotation['width'].min(), val_annotation['width'].max(), val_annotation['height'].min(), val_annotation['height'].max())\n",
    "print(\"min and max width and height of testing images: \", test_annotation['width'].min(), test_annotation['width'].max(), test_annotation['height'].min(), test_annotation['height'].max())"
   ]
  },
  {
   "cell_type": "code",
   "execution_count": 4,
   "metadata": {},
   "outputs": [],
   "source": [
    "# function map the class name to an integer\n",
    "def charToVal(c):\n",
    "    return ord(c) - 64\n",
    "\n",
    "def valToChar(v):\n",
    "    return chr(v + 64)"
   ]
  },
  {
   "cell_type": "markdown",
   "metadata": {},
   "source": [
    "## Dataset Class"
   ]
  },
  {
   "cell_type": "code",
   "execution_count": 5,
   "metadata": {},
   "outputs": [],
   "source": [
    "# image dimension\n",
    "img_width = 512\n",
    "img_height = 512"
   ]
  },
  {
   "cell_type": "code",
   "execution_count": 6,
   "metadata": {},
   "outputs": [],
   "source": [
    "# create the dataset class\n",
    "\n",
    "class ASLDataset(Dataset):\n",
    "    \"\"\"\n",
    "    Custom ASL dataset needed for training\n",
    "    \"\"\"\n",
    "    def __init__(self, annotation, img_dir, transforms=None):\n",
    "        # initialize the annotation, paths to images, and transforms\n",
    "        self.annotation = annotation\n",
    "        self.img_dir = img_dir\n",
    "        self.transforms = transforms\n",
    "\n",
    "    def __len__(self):\n",
    "        # return the length of the dataset\n",
    "        return len(self.annotation)\n",
    "    \n",
    "    def __getitem__(self, idx):\n",
    "        filename = self.annotation.at[idx, 'filename']\n",
    "        \n",
    "        class_name = self.annotation.at[idx, 'class']\n",
    "        xmin = self.annotation.at[idx, 'xmin']\n",
    "        xmax = self.annotation.at[idx, 'xmax']\n",
    "        ymin = self.annotation.at[idx, 'ymin']\n",
    "        ymax = self.annotation.at[idx, 'ymax']\n",
    "\n",
    "        # read in the image\n",
    "        path = os.path.join(self.img_dir, filename)\n",
    "        img = Image.open(path).convert(\"RGB\")\n",
    "\n",
    "        if self.transforms is not None:\n",
    "            img = self.transforms(img)\n",
    "\n",
    "        # target\n",
    "        target = {}\n",
    "        target['boxes'] = torch.as_tensor([[xmin, ymin, xmax, ymax]], dtype=torch.float32)\n",
    "        target['labels'] = torch.as_tensor([charToVal(class_name)], dtype=torch.int64)\n",
    "\n",
    "        return img, target"
   ]
  },
  {
   "cell_type": "code",
   "execution_count": 7,
   "metadata": {},
   "outputs": [],
   "source": [
    "# define the transforms\n",
    "data_transform = transforms.Compose([\n",
    "    transforms.ToTensor(),\n",
    "])\n",
    "\n",
    "# create the dataset\n",
    "train_dataset = ASLDataset(train_annotation, 'data/train', data_transform)\n",
    "val_dataset = ASLDataset(val_annotation, 'data/valid', data_transform)\n",
    "test_dataset = ASLDataset(test_annotation, 'data/test', data_transform)"
   ]
  },
  {
   "cell_type": "markdown",
   "metadata": {},
   "source": [
    "## Model Training Part"
   ]
  },
  {
   "cell_type": "code",
   "execution_count": 8,
   "metadata": {},
   "outputs": [
    {
     "name": "stdout",
     "output_type": "stream",
     "text": [
      "tensor(0.6411, dtype=torch.float64) tensor(0)\n"
     ]
    }
   ],
   "source": [
    "def find_best_iou(pred_boxes, target_box):\n",
    "    best_iou = 0\n",
    "    best_index = -1\n",
    "    if(pred_boxes.shape[0] == 0):\n",
    "        return 0, 0\n",
    "    #print(pred_boxes.shape, target_box.shape)\n",
    "    ious = box_iou(torch.from_numpy(target_box), torch.from_numpy(pred_boxes))\n",
    "    #print(ious)\n",
    "    best_iou = torch.max(ious[0])\n",
    "    best_index = torch.argmax(ious[0])\n",
    "\n",
    "\n",
    "    return best_iou, best_index\n",
    "\n",
    "#test find best iou\n",
    "\n",
    "target_box = np.array([[37., 65., 395., 512.], [32., 15., 263., 326.,]])\n",
    "pred_boxes = np.array([[75.232, 161.32132, 401.234, 486.213]])\n",
    "\n",
    "best_iou, best_idx = find_best_iou(pred_boxes, target_box)\n",
    "print(best_iou, best_idx)"
   ]
  },
  {
   "cell_type": "code",
   "execution_count": 9,
   "metadata": {},
   "outputs": [],
   "source": [
    "# collate function\n",
    "def collate_fn(batch):\n",
    "    images, targets = zip(*batch)\n",
    "    images = list(images)\n",
    "    targets = list(targets)\n",
    "    return images, targets"
   ]
  },
  {
   "cell_type": "code",
   "execution_count": 10,
   "metadata": {},
   "outputs": [],
   "source": [
    "# initialize dataloaders\n",
    "batch_size = 8#setting to one for now to decrease time to test TODO: change back to 4\n",
    "train_dataloader = DataLoader(train_dataset, batch_size=batch_size, shuffle=True, num_workers=0, collate_fn=collate_fn)\n",
    "val_dataloader = DataLoader(val_dataset, batch_size=batch_size, shuffle=True, num_workers=0, collate_fn=collate_fn)\n",
    "test_dataloader = DataLoader(test_dataset, batch_size=batch_size, shuffle=True, num_workers=0, collate_fn=collate_fn)"
   ]
  },
  {
   "cell_type": "code",
   "execution_count": 11,
   "metadata": {},
   "outputs": [
    {
     "name": "stdout",
     "output_type": "stream",
     "text": [
      "[tensor([[[0.0078, 0.0039, 0.0235,  ..., 0.0000, 0.0000, 0.0000],\n",
      "         [0.0118, 0.0039, 0.0314,  ..., 0.0000, 0.0000, 0.0000],\n",
      "         [0.0039, 0.0039, 0.0157,  ..., 0.0000, 0.0000, 0.0000],\n",
      "         ...,\n",
      "         [0.0039, 0.0039, 0.0039,  ..., 0.0039, 0.0118, 0.0118],\n",
      "         [0.0039, 0.0039, 0.0039,  ..., 0.0039, 0.0118, 0.0118],\n",
      "         [0.0039, 0.0039, 0.0039,  ..., 0.0039, 0.0118, 0.0118]],\n",
      "\n",
      "        [[0.0000, 0.0000, 0.0157,  ..., 0.0000, 0.0000, 0.0000],\n",
      "         [0.0039, 0.0000, 0.0235,  ..., 0.0000, 0.0000, 0.0000],\n",
      "         [0.0000, 0.0000, 0.0078,  ..., 0.0000, 0.0000, 0.0000],\n",
      "         ...,\n",
      "         [0.0000, 0.0000, 0.0000,  ..., 0.0000, 0.0000, 0.0000],\n",
      "         [0.0000, 0.0000, 0.0000,  ..., 0.0000, 0.0000, 0.0000],\n",
      "         [0.0000, 0.0000, 0.0000,  ..., 0.0000, 0.0000, 0.0000]],\n",
      "\n",
      "        [[0.0118, 0.0078, 0.0196,  ..., 0.0000, 0.0000, 0.0000],\n",
      "         [0.0157, 0.0078, 0.0275,  ..., 0.0000, 0.0000, 0.0000],\n",
      "         [0.0078, 0.0078, 0.0118,  ..., 0.0000, 0.0000, 0.0000],\n",
      "         ...,\n",
      "         [0.0000, 0.0000, 0.0000,  ..., 0.0000, 0.0000, 0.0000],\n",
      "         [0.0000, 0.0000, 0.0000,  ..., 0.0000, 0.0000, 0.0000],\n",
      "         [0.0000, 0.0000, 0.0000,  ..., 0.0000, 0.0000, 0.0000]]]), tensor([[[0.7725, 0.7725, 0.7725,  ..., 0.2157, 0.2039, 0.1686],\n",
      "         [0.7725, 0.7725, 0.7725,  ..., 0.1922, 0.1765, 0.1608],\n",
      "         [0.7725, 0.7725, 0.7725,  ..., 0.1725, 0.1608, 0.1647],\n",
      "         ...,\n",
      "         [0.7804, 0.7843, 0.7922,  ..., 0.4157, 0.4627, 0.4863],\n",
      "         [0.8000, 0.8039, 0.8078,  ..., 0.2078, 0.3373, 0.4235],\n",
      "         [0.8118, 0.8157, 0.8196,  ..., 0.0667, 0.0980, 0.1216]],\n",
      "\n",
      "        [[0.6471, 0.6471, 0.6471,  ..., 0.1059, 0.0902, 0.0549],\n",
      "         [0.6471, 0.6471, 0.6471,  ..., 0.0824, 0.0627, 0.0471],\n",
      "         [0.6471, 0.6471, 0.6471,  ..., 0.0627, 0.0471, 0.0510],\n",
      "         ...,\n",
      "         [0.5373, 0.5412, 0.5490,  ..., 0.3882, 0.4235, 0.4471],\n",
      "         [0.5569, 0.5608, 0.5647,  ..., 0.1804, 0.2980, 0.3843],\n",
      "         [0.5686, 0.5725, 0.5765,  ..., 0.0392, 0.0588, 0.0824]],\n",
      "\n",
      "        [[0.6039, 0.6039, 0.6039,  ..., 0.0627, 0.0667, 0.0314],\n",
      "         [0.6039, 0.6039, 0.6039,  ..., 0.0392, 0.0392, 0.0235],\n",
      "         [0.6039, 0.6039, 0.6039,  ..., 0.0196, 0.0235, 0.0275],\n",
      "         ...,\n",
      "         [0.2431, 0.2471, 0.2549,  ..., 0.2863, 0.3176, 0.3412],\n",
      "         [0.2627, 0.2667, 0.2706,  ..., 0.0784, 0.1922, 0.2784],\n",
      "         [0.2745, 0.2784, 0.2824,  ..., 0.0000, 0.0000, 0.0000]]]), tensor([[[0.0745, 0.0745, 0.0784,  ..., 0.0392, 0.0392, 0.0392],\n",
      "         [0.0941, 0.0902, 0.0902,  ..., 0.0392, 0.0392, 0.0392],\n",
      "         [0.1059, 0.1020, 0.1020,  ..., 0.0431, 0.0392, 0.0392],\n",
      "         ...,\n",
      "         [0.6588, 0.6588, 0.6588,  ..., 0.6745, 0.6745, 0.6745],\n",
      "         [0.6588, 0.6588, 0.6627,  ..., 0.6667, 0.6667, 0.6667],\n",
      "         [0.6627, 0.6667, 0.6706,  ..., 0.6667, 0.6667, 0.6667]],\n",
      "\n",
      "        [[0.0275, 0.0275, 0.0314,  ..., 0.0196, 0.0196, 0.0196],\n",
      "         [0.0392, 0.0353, 0.0353,  ..., 0.0196, 0.0196, 0.0196],\n",
      "         [0.0471, 0.0431, 0.0431,  ..., 0.0235, 0.0196, 0.0196],\n",
      "         ...,\n",
      "         [0.4000, 0.4000, 0.4000,  ..., 0.4392, 0.4392, 0.4392],\n",
      "         [0.4000, 0.4000, 0.4039,  ..., 0.4392, 0.4392, 0.4431],\n",
      "         [0.4039, 0.4078, 0.4118,  ..., 0.4392, 0.4392, 0.4392]],\n",
      "\n",
      "        [[0.0275, 0.0275, 0.0314,  ..., 0.0078, 0.0078, 0.0078],\n",
      "         [0.0353, 0.0314, 0.0314,  ..., 0.0078, 0.0078, 0.0078],\n",
      "         [0.0353, 0.0314, 0.0314,  ..., 0.0118, 0.0078, 0.0078],\n",
      "         ...,\n",
      "         [0.0235, 0.0235, 0.0314,  ..., 0.2353, 0.2353, 0.2275],\n",
      "         [0.0196, 0.0235, 0.0353,  ..., 0.2431, 0.2431, 0.2353],\n",
      "         [0.0235, 0.0275, 0.0431,  ..., 0.2431, 0.2431, 0.2431]]]), tensor([[[0.1490, 0.1490, 0.1529,  ..., 0.1373, 0.1373, 0.1373],\n",
      "         [0.1490, 0.1490, 0.1529,  ..., 0.1451, 0.1451, 0.1451],\n",
      "         [0.1490, 0.1490, 0.1529,  ..., 0.1490, 0.1490, 0.1490],\n",
      "         ...,\n",
      "         [0.1490, 0.1490, 0.1490,  ..., 0.5882, 0.3451, 0.2078],\n",
      "         [0.1333, 0.1333, 0.1373,  ..., 0.5804, 0.3373, 0.2000],\n",
      "         [0.1255, 0.1255, 0.1333,  ..., 0.5765, 0.3333, 0.1961]],\n",
      "\n",
      "        [[0.1529, 0.1529, 0.1490,  ..., 0.1569, 0.1569, 0.1569],\n",
      "         [0.1529, 0.1529, 0.1490,  ..., 0.1529, 0.1529, 0.1529],\n",
      "         [0.1490, 0.1490, 0.1490,  ..., 0.1490, 0.1490, 0.1490],\n",
      "         ...,\n",
      "         [0.1529, 0.1529, 0.1490,  ..., 0.4941, 0.2745, 0.1451],\n",
      "         [0.1647, 0.1647, 0.1569,  ..., 0.4863, 0.2667, 0.1373],\n",
      "         [0.1686, 0.1686, 0.1647,  ..., 0.4824, 0.2627, 0.1333]],\n",
      "\n",
      "        [[0.1333, 0.1333, 0.1333,  ..., 0.1412, 0.1412, 0.1412],\n",
      "         [0.1333, 0.1333, 0.1333,  ..., 0.1412, 0.1412, 0.1412],\n",
      "         [0.1412, 0.1412, 0.1333,  ..., 0.1490, 0.1490, 0.1490],\n",
      "         ...,\n",
      "         [0.1333, 0.1333, 0.1412,  ..., 0.3843, 0.1961, 0.0824],\n",
      "         [0.1137, 0.1137, 0.1294,  ..., 0.3765, 0.1882, 0.0745],\n",
      "         [0.1020, 0.1059, 0.1216,  ..., 0.3725, 0.1843, 0.0706]]]), tensor([[[0.6824, 0.6824, 0.6824,  ..., 0.9725, 0.9686, 0.9686],\n",
      "         [0.6824, 0.6824, 0.6824,  ..., 0.9725, 0.9686, 0.9686],\n",
      "         [0.6824, 0.6824, 0.6824,  ..., 0.9725, 0.9686, 0.9686],\n",
      "         ...,\n",
      "         [0.5647, 0.5647, 0.5686,  ..., 0.4667, 0.4980, 0.5255],\n",
      "         [0.5608, 0.5647, 0.5647,  ..., 0.6157, 0.6431, 0.6588],\n",
      "         [0.5608, 0.5647, 0.5647,  ..., 0.6980, 0.6941, 0.6824]],\n",
      "\n",
      "        [[0.6039, 0.6039, 0.6039,  ..., 0.9059, 0.9020, 0.9020],\n",
      "         [0.6039, 0.6039, 0.6039,  ..., 0.9059, 0.9020, 0.9020],\n",
      "         [0.6039, 0.6039, 0.6039,  ..., 0.9059, 0.9020, 0.9020],\n",
      "         ...,\n",
      "         [0.4902, 0.4902, 0.4941,  ..., 0.3765, 0.4118, 0.4392],\n",
      "         [0.4863, 0.4902, 0.4902,  ..., 0.5294, 0.5569, 0.5725],\n",
      "         [0.4863, 0.4902, 0.4902,  ..., 0.6118, 0.6078, 0.5961]],\n",
      "\n",
      "        [[0.5765, 0.5765, 0.5765,  ..., 0.8745, 0.8706, 0.8706],\n",
      "         [0.5765, 0.5765, 0.5765,  ..., 0.8745, 0.8706, 0.8706],\n",
      "         [0.5765, 0.5765, 0.5765,  ..., 0.8745, 0.8706, 0.8706],\n",
      "         ...,\n",
      "         [0.4627, 0.4627, 0.4667,  ..., 0.1647, 0.1882, 0.2157],\n",
      "         [0.4588, 0.4627, 0.4627,  ..., 0.3059, 0.3333, 0.3490],\n",
      "         [0.4588, 0.4627, 0.4627,  ..., 0.3882, 0.3843, 0.3725]]]), tensor([[[0.5412, 0.5412, 0.5412,  ..., 0.5686, 0.5686, 0.5647],\n",
      "         [0.5412, 0.5412, 0.5412,  ..., 0.5686, 0.5686, 0.5647],\n",
      "         [0.5412, 0.5412, 0.5412,  ..., 0.5686, 0.5686, 0.5647],\n",
      "         ...,\n",
      "         [0.4314, 0.4314, 0.4314,  ..., 0.6235, 0.6275, 0.6314],\n",
      "         [0.4314, 0.4314, 0.4314,  ..., 0.6235, 0.6275, 0.6314],\n",
      "         [0.4314, 0.4314, 0.4314,  ..., 0.6235, 0.6275, 0.6314]],\n",
      "\n",
      "        [[0.5059, 0.5059, 0.5059,  ..., 0.5176, 0.5098, 0.5059],\n",
      "         [0.5059, 0.5059, 0.5059,  ..., 0.5176, 0.5098, 0.5059],\n",
      "         [0.5059, 0.5059, 0.5059,  ..., 0.5176, 0.5098, 0.5059],\n",
      "         ...,\n",
      "         [0.3804, 0.3804, 0.3804,  ..., 0.5686, 0.5804, 0.5843],\n",
      "         [0.3804, 0.3804, 0.3804,  ..., 0.5686, 0.5804, 0.5843],\n",
      "         [0.3804, 0.3804, 0.3804,  ..., 0.5686, 0.5804, 0.5843]],\n",
      "\n",
      "        [[0.3529, 0.3529, 0.3529,  ..., 0.3451, 0.3412, 0.3373],\n",
      "         [0.3529, 0.3529, 0.3529,  ..., 0.3451, 0.3412, 0.3373],\n",
      "         [0.3529, 0.3529, 0.3529,  ..., 0.3451, 0.3412, 0.3373],\n",
      "         ...,\n",
      "         [0.2471, 0.2471, 0.2471,  ..., 0.5255, 0.5333, 0.5373],\n",
      "         [0.2471, 0.2471, 0.2471,  ..., 0.5255, 0.5333, 0.5373],\n",
      "         [0.2471, 0.2471, 0.2471,  ..., 0.5255, 0.5333, 0.5373]]]), tensor([[[0.7686, 0.7686, 0.7725,  ..., 0.1765, 0.0941, 0.0471],\n",
      "         [0.7686, 0.7686, 0.7725,  ..., 0.1686, 0.0980, 0.0588],\n",
      "         [0.7686, 0.7686, 0.7686,  ..., 0.1490, 0.0902, 0.0706],\n",
      "         ...,\n",
      "         [0.6941, 0.6941, 0.6980,  ..., 0.6549, 0.6627, 0.6588],\n",
      "         [0.7137, 0.7176, 0.7255,  ..., 0.6667, 0.6745, 0.6706],\n",
      "         [0.7333, 0.7373, 0.7451,  ..., 0.6784, 0.6784, 0.6784]],\n",
      "\n",
      "        [[0.6235, 0.6235, 0.6275,  ..., 0.2078, 0.1059, 0.0588],\n",
      "         [0.6235, 0.6235, 0.6275,  ..., 0.1922, 0.1098, 0.0706],\n",
      "         [0.6235, 0.6235, 0.6235,  ..., 0.1725, 0.1020, 0.0745],\n",
      "         ...,\n",
      "         [0.3843, 0.3843, 0.3882,  ..., 0.3373, 0.3373, 0.3412],\n",
      "         [0.4078, 0.4118, 0.4118,  ..., 0.3412, 0.3412, 0.3451],\n",
      "         [0.4275, 0.4314, 0.4314,  ..., 0.3490, 0.3490, 0.3490]],\n",
      "\n",
      "        [[0.5608, 0.5608, 0.5647,  ..., 0.1647, 0.0627, 0.0157],\n",
      "         [0.5608, 0.5608, 0.5647,  ..., 0.1529, 0.0745, 0.0275],\n",
      "         [0.5608, 0.5608, 0.5608,  ..., 0.1333, 0.0667, 0.0431],\n",
      "         ...,\n",
      "         [0.1137, 0.1137, 0.1176,  ..., 0.0784, 0.0784, 0.0824],\n",
      "         [0.1255, 0.1294, 0.1333,  ..., 0.0745, 0.0784, 0.0784],\n",
      "         [0.1373, 0.1412, 0.1451,  ..., 0.0745, 0.0745, 0.0745]]]), tensor([[[0.7333, 0.7333, 0.7333,  ..., 0.0627, 0.0941, 0.1059],\n",
      "         [0.7333, 0.7333, 0.7333,  ..., 0.0667, 0.0980, 0.1059],\n",
      "         [0.7333, 0.7333, 0.7333,  ..., 0.0784, 0.1020, 0.1059],\n",
      "         ...,\n",
      "         [0.8353, 0.8353, 0.8353,  ..., 0.4235, 0.4275, 0.4275],\n",
      "         [0.8431, 0.8353, 0.8275,  ..., 0.4745, 0.4745, 0.4745],\n",
      "         [0.8471, 0.8353, 0.8235,  ..., 0.4980, 0.4941, 0.4941]],\n",
      "\n",
      "        [[0.7373, 0.7373, 0.7373,  ..., 0.0431, 0.0745, 0.0863],\n",
      "         [0.7373, 0.7373, 0.7373,  ..., 0.0471, 0.0784, 0.0863],\n",
      "         [0.7373, 0.7373, 0.7373,  ..., 0.0588, 0.0824, 0.0863],\n",
      "         ...,\n",
      "         [0.8196, 0.8196, 0.8196,  ..., 0.4118, 0.4157, 0.4157],\n",
      "         [0.8275, 0.8196, 0.8118,  ..., 0.4510, 0.4510, 0.4510],\n",
      "         [0.8314, 0.8196, 0.8078,  ..., 0.4745, 0.4706, 0.4706]],\n",
      "\n",
      "        [[0.7569, 0.7569, 0.7569,  ..., 0.0588, 0.0980, 0.1098],\n",
      "         [0.7569, 0.7569, 0.7569,  ..., 0.0627, 0.1020, 0.1098],\n",
      "         [0.7569, 0.7569, 0.7569,  ..., 0.0745, 0.1059, 0.1098],\n",
      "         ...,\n",
      "         [0.8863, 0.8863, 0.8863,  ..., 0.4471, 0.4510, 0.4431],\n",
      "         [0.8941, 0.8863, 0.8784,  ..., 0.4902, 0.4902, 0.4902],\n",
      "         [0.8980, 0.8863, 0.8745,  ..., 0.5216, 0.5098, 0.5098]]])]\n",
      "[{'boxes': tensor([[101.,  37., 473., 366.]]), 'labels': tensor([12])}, {'boxes': tensor([[112., 222., 354., 408.]]), 'labels': tensor([17])}, {'boxes': tensor([[ 36., 164., 365., 512.]]), 'labels': tensor([6])}, {'boxes': tensor([[ 82., 254., 388., 425.]]), 'labels': tensor([7])}, {'boxes': tensor([[147.,  67., 419., 429.]]), 'labels': tensor([21])}, {'boxes': tensor([[ 73.,  73., 512., 512.]]), 'labels': tensor([23])}, {'boxes': tensor([[ 44., 207., 484., 408.]]), 'labels': tensor([8])}, {'boxes': tensor([[153., 182., 352., 480.]]), 'labels': tensor([6])}]\n"
     ]
    }
   ],
   "source": [
    "# check the dataloader\n",
    "images, targets = next(iter(train_dataloader))\n",
    "print(images)\n",
    "print(targets)"
   ]
  },
  {
   "cell_type": "code",
   "execution_count": 12,
   "metadata": {},
   "outputs": [
    {
     "name": "stderr",
     "output_type": "stream",
     "text": [
      "c:\\Users\\frank\\projects\\ASL_539_Project\\.venv\\lib\\site-packages\\torchvision\\models\\_utils.py:208: UserWarning: The parameter 'pretrained' is deprecated since 0.13 and may be removed in the future, please use 'weights' instead.\n",
      "  warnings.warn(\n",
      "c:\\Users\\frank\\projects\\ASL_539_Project\\.venv\\lib\\site-packages\\torchvision\\models\\_utils.py:223: UserWarning: Arguments other than a weight enum or `None` for 'weights' are deprecated since 0.13 and may be removed in the future. The current behavior is equivalent to passing `weights=FasterRCNN_ResNet50_FPN_Weights.COCO_V1`. You can also use `weights=FasterRCNN_ResNet50_FPN_Weights.DEFAULT` to get the most up-to-date weights.\n",
      "  warnings.warn(msg)\n"
     ]
    }
   ],
   "source": [
    "# define the model\n",
    "model = fasterrcnn_resnet50_fpn(pretrained=True)\n",
    "num_classes = 27\n",
    "in_features = model.roi_heads.box_predictor.cls_score.in_features\n",
    "model.roi_heads.box_predictor = FastRCNNPredictor(in_features, num_classes)"
   ]
  },
  {
   "cell_type": "code",
   "execution_count": 13,
   "metadata": {},
   "outputs": [],
   "source": [
    "# training preparation\n",
    "model.to(device)\n",
    "\n",
    "optimizer = optim.Adam(model.parameters(), lr=0.001)\n",
    "epochs = 20\n",
    "\n",
    "H = {}\n",
    "H['train_loss'] = []\n",
    "H['mean_ious'] = []\n",
    "H['val_loss'] = []"
   ]
  },
  {
   "cell_type": "code",
   "execution_count": 14,
   "metadata": {},
   "outputs": [
    {
     "name": "stderr",
     "output_type": "stream",
     "text": [
      "100%|██████████| 189/189 [01:56<00:00,  1.62it/s]\n"
     ]
    },
    {
     "name": "stdout",
     "output_type": "stream",
     "text": [
      "Epoch 1 Training Loss: 0.44440158681263997\n"
     ]
    },
    {
     "name": "stderr",
     "output_type": "stream",
     "text": [
      "  0%|          | 0/18 [00:00<?, ?it/s]\n"
     ]
    },
    {
     "ename": "AttributeError",
     "evalue": "'list' object has no attribute 'values'",
     "output_type": "error",
     "traceback": [
      "\u001b[1;31m---------------------------------------------------------------------------\u001b[0m",
      "\u001b[1;31mAttributeError\u001b[0m                            Traceback (most recent call last)",
      "\u001b[1;32mc:\\Users\\frank\\projects\\ASL_539_Project\\asl_detection.ipynb Cell 17\u001b[0m line \u001b[0;36m3\n\u001b[0;32m     <a href='vscode-notebook-cell:/c%3A/Users/frank/projects/ASL_539_Project/asl_detection.ipynb#X22sZmlsZQ%3D%3D?line=30'>31</a>\u001b[0m targets \u001b[39m=\u001b[39m [{k: v\u001b[39m.\u001b[39mto(device) \u001b[39mfor\u001b[39;00m k, v \u001b[39min\u001b[39;00m t\u001b[39m.\u001b[39mitems()} \u001b[39mfor\u001b[39;00m t \u001b[39min\u001b[39;00m targets]\n\u001b[0;32m     <a href='vscode-notebook-cell:/c%3A/Users/frank/projects/ASL_539_Project/asl_detection.ipynb#X22sZmlsZQ%3D%3D?line=32'>33</a>\u001b[0m loss_dict \u001b[39m=\u001b[39m model(images, targets)\n\u001b[1;32m---> <a href='vscode-notebook-cell:/c%3A/Users/frank/projects/ASL_539_Project/asl_detection.ipynb#X22sZmlsZQ%3D%3D?line=33'>34</a>\u001b[0m losses \u001b[39m=\u001b[39m \u001b[39msum\u001b[39m(loss \u001b[39mfor\u001b[39;00m loss \u001b[39min\u001b[39;00m loss_dict\u001b[39m.\u001b[39;49mvalues())\n\u001b[0;32m     <a href='vscode-notebook-cell:/c%3A/Users/frank/projects/ASL_539_Project/asl_detection.ipynb#X22sZmlsZQ%3D%3D?line=34'>35</a>\u001b[0m val_loss \u001b[39m+\u001b[39m\u001b[39m=\u001b[39m losses\u001b[39m.\u001b[39mitem()\n\u001b[0;32m     <a href='vscode-notebook-cell:/c%3A/Users/frank/projects/ASL_539_Project/asl_detection.ipynb#X22sZmlsZQ%3D%3D?line=36'>37</a>\u001b[0m outputs \u001b[39m=\u001b[39m model(images)\n",
      "\u001b[1;31mAttributeError\u001b[0m: 'list' object has no attribute 'values'"
     ]
    }
   ],
   "source": [
    "best_loss = 100.0\n",
    "for epoch in range(epochs):\n",
    "    model.train()\n",
    "    train_loss = 0.0\n",
    "    for images, targets in tqdm(train_dataloader):\n",
    "        optimizer.zero_grad()\n",
    "        images = list(image.to(device) for image in images)\n",
    "        targets = [{k: v.to(device) for k, v in t.items()} for t in targets]\n",
    "\n",
    "        #print(len(images))\n",
    "        #print(len(targets))\n",
    "        loss_dict = model(images, targets)\n",
    "        losses = sum(loss for loss in loss_dict.values())\n",
    "\n",
    "        losses.backward()\n",
    "        optimizer.step()\n",
    "\n",
    "        train_loss += losses.item()\n",
    "    print(f\"Epoch {epoch + 1} Training Loss: {train_loss/len(train_dataloader)}\")\n",
    "    H[\"train_loss\"].append(train_loss/len(train_dataloader))\n",
    "\n",
    "    model.eval()\n",
    "    val_loss = 0.0\n",
    "\n",
    "    mean_ious = 0.0\n",
    "    with torch.no_grad():\n",
    "        for images, targets in tqdm(val_dataloader):\n",
    "            images = list(image.to(device) for image in images)\n",
    "            targets = [{k: v.to(device) for k, v in t.items()} for t in targets]\n",
    "\n",
    "            loss_dict = model(images, targets)\n",
    "            losses = sum(loss for loss in loss_dict.values())\n",
    "            val_loss += losses.item()\n",
    "\n",
    "            outputs = model(images)\n",
    "\n",
    "\n",
    "            ious = []\n",
    "            iou_idxs = []\n",
    "            for i, output in enumerate(outputs):\n",
    "                target_box = targets[i]['boxes'][0].cpu().numpy()\n",
    "                target_box = target_box[None, :]\n",
    "                pred_boxes = output['boxes'].cpu().numpy()\n",
    "\n",
    "                best_iou, best_idx = find_best_iou(pred_boxes, target_box)\n",
    "                ious.append(best_iou)\n",
    "                iou_idxs.append(best_idx)\n",
    "            mean_ious += sum(ious)/len(ious)\n",
    "    tempvalidloss = val_loss/len(val_dataloader) \n",
    "\n",
    "    #loss would randomly spike at some points, this will hopefully fix it the hard way\n",
    "    if tempvalidloss < best_loss:\n",
    "        best_loss = tempvalidloss\n",
    "        torch.save(model.state_dict(), 'models/best-model-parameters.pt')\n",
    "    if tempvalidloss > 2 * best_loss and tempvalidloss > 5:\n",
    "        print(\"previous state loaded instead\")\n",
    "        model.load_state_dict(torch.load('models/best-model-parameters.pt'))\n",
    "    print(f\"Epoch {epoch + 1} Validation Loss: {tempvalidloss}\")\n",
    "    H[\"val_loss\"].append(tempvalidloss)\n",
    "    print(f\"Epoch {epoch + 1} Mean IOU: {mean_ious/len(val_dataloader)}\")\n",
    "    H[\"mean_ious\"].append(mean_ious/len(val_dataloader))\n"
   ]
  },
  {
   "cell_type": "code",
   "execution_count": null,
   "metadata": {},
   "outputs": [],
   "source": [
    "# save model\n",
    "\n",
    "torch.save(model.state_dict(), 'models/trained_model.pth')"
   ]
  },
  {
   "cell_type": "code",
   "execution_count": null,
   "metadata": {},
   "outputs": [
    {
     "name": "stderr",
     "output_type": "stream",
     "text": [
      "  0%|          | 0/18 [00:00<?, ?it/s]\n"
     ]
    },
    {
     "ename": "AttributeError",
     "evalue": "'list' object has no attribute 'values'",
     "output_type": "error",
     "traceback": [
      "\u001b[1;31m---------------------------------------------------------------------------\u001b[0m",
      "\u001b[1;31mAttributeError\u001b[0m                            Traceback (most recent call last)",
      "\u001b[1;32mc:\\Users\\frank\\projects\\ASL_539_Project\\asl_detection.ipynb Cell 19\u001b[0m line \u001b[0;36m1\n\u001b[0;32m      <a href='vscode-notebook-cell:/c%3A/Users/frank/projects/ASL_539_Project/asl_detection.ipynb#X26sZmlsZQ%3D%3D?line=8'>9</a>\u001b[0m targets \u001b[39m=\u001b[39m [{k: v\u001b[39m.\u001b[39mto(device) \u001b[39mfor\u001b[39;00m k, v \u001b[39min\u001b[39;00m t\u001b[39m.\u001b[39mitems()} \u001b[39mfor\u001b[39;00m t \u001b[39min\u001b[39;00m targets]\n\u001b[0;32m     <a href='vscode-notebook-cell:/c%3A/Users/frank/projects/ASL_539_Project/asl_detection.ipynb#X26sZmlsZQ%3D%3D?line=10'>11</a>\u001b[0m loss_dict \u001b[39m=\u001b[39m model(images, targets)\n\u001b[1;32m---> <a href='vscode-notebook-cell:/c%3A/Users/frank/projects/ASL_539_Project/asl_detection.ipynb#X26sZmlsZQ%3D%3D?line=11'>12</a>\u001b[0m losses \u001b[39m=\u001b[39m \u001b[39msum\u001b[39m(loss \u001b[39mfor\u001b[39;00m loss \u001b[39min\u001b[39;00m loss_dict\u001b[39m.\u001b[39;49mvalues())\n\u001b[0;32m     <a href='vscode-notebook-cell:/c%3A/Users/frank/projects/ASL_539_Project/asl_detection.ipynb#X26sZmlsZQ%3D%3D?line=12'>13</a>\u001b[0m val_loss \u001b[39m+\u001b[39m\u001b[39m=\u001b[39m losses\u001b[39m.\u001b[39mitem()\n\u001b[0;32m     <a href='vscode-notebook-cell:/c%3A/Users/frank/projects/ASL_539_Project/asl_detection.ipynb#X26sZmlsZQ%3D%3D?line=14'>15</a>\u001b[0m outputs \u001b[39m=\u001b[39m model(images)\n",
      "\u001b[1;31mAttributeError\u001b[0m: 'list' object has no attribute 'values'"
     ]
    }
   ],
   "source": [
    "#testing\n",
    "from sklearn.metrics import confusion_matrix, accuracy_score\n",
    "\n",
    "model.eval()\n",
    "mean_ious = 0.0\n",
    "with torch.no_grad():\n",
    "    for images, targets in tqdm(val_dataloader):\n",
    "        images = list(image.to(device) for image in images)\n",
    "        targets = [{k: v.to(device) for k, v in t.items()} for t in targets]\n",
    "\n",
    "        loss_dict = model(images, targets)\n",
    "        losses = sum(loss for loss in loss_dict.values())\n",
    "        val_loss += losses.item()\n",
    "\n",
    "        outputs = model(images)\n",
    "\n",
    "\n",
    "        ious = []\n",
    "        iou_idxs = []\n",
    "        for i, output in enumerate(outputs):\n",
    "            target_box = targets[i]['boxes'][0].cpu().numpy()\n",
    "            target_box = target_box[None, :]\n",
    "            pred_boxes = output['boxes'].cpu().numpy()\n",
    "\n",
    "            best_iou, best_idx = find_best_iou(pred_boxes, target_box)\n",
    "            ious.append(best_iou)\n",
    "            iou_idxs.append(best_idx)\n",
    "        mean_ious += sum(ious)/len(ious)\n",
    "tempvalidloss = val_loss/len(val_dataloader) \n",
    "print(f\"Epoch {epoch + 1} Validation Loss: {tempvalidloss}\")\n",
    "print(f\"Epoch {epoch + 1} Mean IOU: {mean_ious/len(val_dataloader)}\")\n"
   ]
  }
 ],
 "metadata": {
  "kernelspec": {
   "display_name": "base",
   "language": "python",
   "name": "python3"
  },
  "language_info": {
   "codemirror_mode": {
    "name": "ipython",
    "version": 3
   },
   "file_extension": ".py",
   "mimetype": "text/x-python",
   "name": "python",
   "nbconvert_exporter": "python",
   "pygments_lexer": "ipython3",
   "version": "3.9.0"
  }
 },
 "nbformat": 4,
 "nbformat_minor": 2
}
