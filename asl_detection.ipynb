{
 "cells": [
  {
   "cell_type": "markdown",
   "metadata": {},
   "source": [
    "## Data Preprocessing Part"
   ]
  },
  {
   "cell_type": "code",
   "execution_count": 1,
   "metadata": {},
   "outputs": [
    {
     "name": "stdout",
     "output_type": "stream",
     "text": [
      "c:\\Users\\frank\\projects\\ASL_539_Project\\.venv\\Scripts\\python.exe\n"
     ]
    }
   ],
   "source": [
    "# imports\n",
    "\n",
    "TESTING = True\n",
    "import sys\n",
    "print(sys.executable)\n",
    "import os\n",
    "import pandas as pd\n",
    "import numpy as np\n",
    "from PIL import Image\n",
    "from torchvision.models.detection import fasterrcnn_resnet50_fpn\n",
    "from torchvision.models.detection.faster_rcnn import FastRCNNPredictor\n",
    "from torch.utils.data import DataLoader, Dataset\n",
    "import torchvision.transforms as transforms\n",
    "import torch\n",
    "import torchvision\n",
    "import torch.optim as optim\n",
    "from tqdm import tqdm\n",
    "from torchvision.ops import box_iou\n"
   ]
  },
  {
   "cell_type": "code",
   "execution_count": 2,
   "metadata": {},
   "outputs": [
    {
     "name": "stdout",
     "output_type": "stream",
     "text": [
      "2.1.0+cu121\n",
      "cuda\n",
      "12.1\n",
      "0\n",
      "NVIDIA GeForce RTX 3070 Ti\n",
      "12010\n"
     ]
    }
   ],
   "source": [
    "# check if cuda is available\n",
    "device = torch.device('cuda') if torch.cuda.is_available() else torch.device('cpu')\n",
    "\n",
    "print(torch.__version__)\n",
    "print(device)\n",
    "if device.type == 'cuda':\n",
    "    print(torch.version.cuda)\n",
    "    print(torch.cuda.current_device())\n",
    "    print(torch.cuda.get_device_name(torch.cuda.current_device()))\n",
    "    print(torch._C._cuda_getCompiledVersion())\n"
   ]
  },
  {
   "cell_type": "code",
   "execution_count": 3,
   "metadata": {},
   "outputs": [
    {
     "name": "stdout",
     "output_type": "stream",
     "text": [
      "Number of training, validation and testing samples\n",
      "300\n",
      "144\n",
      "72\n",
      "min and max width and height of training images:  512 512 512 512\n",
      "min and max width and height of validation images:  512 512 512 512\n",
      "min and max width and height of testing images:  512 512 512 512\n"
     ]
    }
   ],
   "source": [
    "# load in data\n",
    "\n",
    "train_annotation = pd.read_csv('data/train/_annotations.csv')\n",
    "val_annotation = pd.read_csv('data/valid/_annotations.csv')\n",
    "test_annotation = pd.read_csv('data/test/_annotations.csv')\n",
    "\n",
    "if TESTING: #reduce data size to increase testing speed\n",
    "    train_annotation = train_annotation[:300]\n",
    "\n",
    "# print the number of samples of the data\n",
    "print(\"Number of training, validation and testing samples\")\n",
    "print(len(train_annotation))\n",
    "print(len(val_annotation))\n",
    "print(len(test_annotation))\n",
    "\n",
    "# check the dimension of image is the same\n",
    "print(\"min and max width and height of training images: \", train_annotation['width'].min(), train_annotation['width'].max(), train_annotation['height'].min(), train_annotation['height'].max())\n",
    "print(\"min and max width and height of validation images: \", val_annotation['width'].min(), val_annotation['width'].max(), val_annotation['height'].min(), val_annotation['height'].max())\n",
    "print(\"min and max width and height of testing images: \", test_annotation['width'].min(), test_annotation['width'].max(), test_annotation['height'].min(), test_annotation['height'].max())"
   ]
  },
  {
   "cell_type": "code",
   "execution_count": 4,
   "metadata": {},
   "outputs": [],
   "source": [
    "# function map the class name to an integer\n",
    "def charToVal(c):\n",
    "    return ord(c) - 64\n",
    "\n",
    "def valToChar(v):\n",
    "    return chr(v + 64)"
   ]
  },
  {
   "cell_type": "markdown",
   "metadata": {},
   "source": [
    "## Dataset Class"
   ]
  },
  {
   "cell_type": "code",
   "execution_count": 5,
   "metadata": {},
   "outputs": [],
   "source": [
    "# image dimension\n",
    "img_width = 512\n",
    "img_height = 512"
   ]
  },
  {
   "cell_type": "code",
   "execution_count": 6,
   "metadata": {},
   "outputs": [],
   "source": [
    "# create the dataset class\n",
    "\n",
    "class ASLDataset(Dataset):\n",
    "    \"\"\"\n",
    "    Custom ASL dataset needed for training\n",
    "    \"\"\"\n",
    "    def __init__(self, annotation, img_dir, transforms=None):\n",
    "        # initialize the annotation, paths to images, and transforms\n",
    "        self.annotation = annotation\n",
    "        self.img_dir = img_dir\n",
    "        self.transforms = transforms\n",
    "\n",
    "    def __len__(self):\n",
    "        # return the length of the dataset\n",
    "        return len(self.annotation)\n",
    "    \n",
    "    def __getitem__(self, idx):\n",
    "        filename = self.annotation.at[idx, 'filename']\n",
    "        \n",
    "        class_name = self.annotation.at[idx, 'class']\n",
    "        xmin = self.annotation.at[idx, 'xmin']\n",
    "        xmax = self.annotation.at[idx, 'xmax']\n",
    "        ymin = self.annotation.at[idx, 'ymin']\n",
    "        ymax = self.annotation.at[idx, 'ymax']\n",
    "\n",
    "        # read in the image\n",
    "        path = os.path.join(self.img_dir, filename)\n",
    "        img = Image.open(path).convert(\"RGB\")\n",
    "\n",
    "        if self.transforms is not None:\n",
    "            img = self.transforms(img)\n",
    "\n",
    "        # target\n",
    "        target = {}\n",
    "        target['boxes'] = torch.as_tensor([[xmin, ymin, xmax, ymax]], dtype=torch.float32)\n",
    "        target['labels'] = torch.as_tensor([charToVal(class_name)], dtype=torch.int64)\n",
    "\n",
    "        return img, target"
   ]
  },
  {
   "cell_type": "code",
   "execution_count": 7,
   "metadata": {},
   "outputs": [],
   "source": [
    "# define the transforms\n",
    "data_transform = transforms.Compose([\n",
    "    transforms.ToTensor(),\n",
    "])\n",
    "\n",
    "# create the dataset\n",
    "train_dataset = ASLDataset(train_annotation, 'data/train', data_transform)\n",
    "val_dataset = ASLDataset(val_annotation, 'data/valid', data_transform)\n",
    "test_dataset = ASLDataset(test_annotation, 'data/test', data_transform)"
   ]
  },
  {
   "cell_type": "markdown",
   "metadata": {},
   "source": [
    "## Model Training Part"
   ]
  },
  {
   "cell_type": "code",
   "execution_count": 8,
   "metadata": {},
   "outputs": [
    {
     "name": "stdout",
     "output_type": "stream",
     "text": [
      "tensor(0.6411, dtype=torch.float64) tensor(0)\n"
     ]
    }
   ],
   "source": [
    "def find_best_iou(pred_boxes, target_box):\n",
    "    best_iou = 0\n",
    "    best_index = -1\n",
    "    if(pred_boxes.shape[0] == 0):\n",
    "        return 0, 0\n",
    "    #print(pred_boxes.shape, target_box.shape)\n",
    "    ious = box_iou(torch.from_numpy(target_box), torch.from_numpy(pred_boxes))\n",
    "    #print(ious)\n",
    "    best_iou = torch.max(ious[0])\n",
    "    best_index = torch.argmax(ious[0])\n",
    "\n",
    "\n",
    "    return best_iou, best_index\n",
    "\n",
    "#test find best iou\n",
    "\n",
    "target_box = np.array([[37., 65., 395., 512.], [32., 15., 263., 326.,]])\n",
    "pred_boxes = np.array([[75.232, 161.32132, 401.234, 486.213]])\n",
    "\n",
    "best_iou, best_idx = find_best_iou(pred_boxes, target_box)\n",
    "print(best_iou, best_idx)"
   ]
  },
  {
   "cell_type": "code",
   "execution_count": 9,
   "metadata": {},
   "outputs": [],
   "source": [
    "# collate function\n",
    "def collate_fn(batch):\n",
    "    images, targets = zip(*batch)\n",
    "    images = list(images)\n",
    "    targets = list(targets)\n",
    "    return images, targets"
   ]
  },
  {
   "cell_type": "code",
   "execution_count": 10,
   "metadata": {},
   "outputs": [],
   "source": [
    "# initialize dataloaders\n",
    "batch_size = 2#setting to one for now to decrease time to test TODO: change back to 4 or 8\n",
    "train_dataloader = DataLoader(train_dataset, batch_size=batch_size, shuffle=True, num_workers=0, collate_fn=collate_fn)\n",
    "val_dataloader = DataLoader(val_dataset, batch_size=batch_size, shuffle=True, num_workers=0, collate_fn=collate_fn)\n",
    "test_dataloader = DataLoader(test_dataset, batch_size=batch_size, shuffle=True, num_workers=0, collate_fn=collate_fn)"
   ]
  },
  {
   "cell_type": "code",
   "execution_count": 11,
   "metadata": {},
   "outputs": [
    {
     "name": "stdout",
     "output_type": "stream",
     "text": [
      "[tensor([[[0.0000, 0.0235, 0.0157,  ..., 0.4941, 0.4824, 0.0667],\n",
      "         [0.0000, 0.0196, 0.0157,  ..., 0.4941, 0.4784, 0.0667],\n",
      "         [0.0000, 0.0157, 0.0118,  ..., 0.4941, 0.4784, 0.0627],\n",
      "         ...,\n",
      "         [0.0118, 0.0039, 0.0118,  ..., 0.0000, 0.0000, 0.0000],\n",
      "         [0.0118, 0.0078, 0.0118,  ..., 0.0000, 0.0000, 0.0000],\n",
      "         [0.0000, 0.0000, 0.0000,  ..., 0.0000, 0.0000, 0.0000]],\n",
      "\n",
      "        [[0.0000, 0.0235, 0.0000,  ..., 0.4353, 0.4314, 0.0157],\n",
      "         [0.0000, 0.0196, 0.0000,  ..., 0.4353, 0.4275, 0.0157],\n",
      "         [0.0000, 0.0157, 0.0000,  ..., 0.4353, 0.4275, 0.0118],\n",
      "         ...,\n",
      "         [0.0000, 0.0000, 0.0000,  ..., 0.0000, 0.0000, 0.0000],\n",
      "         [0.0039, 0.0078, 0.0039,  ..., 0.0000, 0.0000, 0.0000],\n",
      "         [0.0000, 0.0000, 0.0000,  ..., 0.0000, 0.0000, 0.0000]],\n",
      "\n",
      "        [[0.0078, 0.0235, 0.0039,  ..., 0.4157, 0.4078, 0.0000],\n",
      "         [0.0078, 0.0196, 0.0039,  ..., 0.4157, 0.4039, 0.0000],\n",
      "         [0.0078, 0.0157, 0.0000,  ..., 0.4157, 0.4039, 0.0000],\n",
      "         ...,\n",
      "         [0.0000, 0.0000, 0.0000,  ..., 0.0000, 0.0000, 0.0000],\n",
      "         [0.0157, 0.0078, 0.0157,  ..., 0.0000, 0.0000, 0.0000],\n",
      "         [0.0078, 0.0078, 0.0078,  ..., 0.0000, 0.0000, 0.0000]]]), tensor([[[0.1765, 0.1804, 0.1843,  ..., 0.2510, 0.2431, 0.2392],\n",
      "         [0.1765, 0.1804, 0.1843,  ..., 0.4863, 0.4824, 0.4784],\n",
      "         [0.1765, 0.1804, 0.1843,  ..., 0.8980, 0.8941, 0.8941],\n",
      "         ...,\n",
      "         [0.1843, 0.1843, 0.1843,  ..., 0.1765, 0.1765, 0.1765],\n",
      "         [0.1922, 0.1922, 0.1922,  ..., 0.1686, 0.1686, 0.1686],\n",
      "         [0.1922, 0.1922, 0.1922,  ..., 0.1686, 0.1686, 0.1686]],\n",
      "\n",
      "        [[0.1843, 0.1804, 0.1765,  ..., 0.1725, 0.1647, 0.1608],\n",
      "         [0.1843, 0.1804, 0.1765,  ..., 0.4078, 0.4039, 0.4000],\n",
      "         [0.1843, 0.1804, 0.1765,  ..., 0.8118, 0.8078, 0.8078],\n",
      "         ...,\n",
      "         [0.1765, 0.1765, 0.1765,  ..., 0.1843, 0.1843, 0.1843],\n",
      "         [0.1765, 0.1765, 0.1765,  ..., 0.1843, 0.1843, 0.1843],\n",
      "         [0.1765, 0.1765, 0.1765,  ..., 0.1843, 0.1843, 0.1843]],\n",
      "\n",
      "        [[0.1804, 0.1804, 0.1804,  ..., 0.1804, 0.1725, 0.1686],\n",
      "         [0.1804, 0.1804, 0.1804,  ..., 0.4157, 0.4118, 0.4078],\n",
      "         [0.1804, 0.1804, 0.1804,  ..., 0.8235, 0.8196, 0.8196],\n",
      "         ...,\n",
      "         [0.1804, 0.1804, 0.1804,  ..., 0.1804, 0.1804, 0.1804],\n",
      "         [0.1804, 0.1804, 0.1804,  ..., 0.1804, 0.1804, 0.1804],\n",
      "         [0.1804, 0.1804, 0.1804,  ..., 0.1804, 0.1804, 0.1804]]])]\n",
      "[{'boxes': tensor([[ 43., 232., 408., 473.]]), 'labels': tensor([25])}, {'boxes': tensor([[205., 298., 387., 430.]]), 'labels': tensor([26])}]\n"
     ]
    }
   ],
   "source": [
    "# check the dataloader\n",
    "images, targets = next(iter(train_dataloader))\n",
    "print(images)\n",
    "print(targets)"
   ]
  },
  {
   "cell_type": "code",
   "execution_count": 12,
   "metadata": {},
   "outputs": [
    {
     "name": "stderr",
     "output_type": "stream",
     "text": [
      "c:\\Users\\frank\\projects\\ASL_539_Project\\.venv\\lib\\site-packages\\torchvision\\models\\_utils.py:208: UserWarning: The parameter 'pretrained' is deprecated since 0.13 and may be removed in the future, please use 'weights' instead.\n",
      "  warnings.warn(\n",
      "c:\\Users\\frank\\projects\\ASL_539_Project\\.venv\\lib\\site-packages\\torchvision\\models\\_utils.py:223: UserWarning: Arguments other than a weight enum or `None` for 'weights' are deprecated since 0.13 and may be removed in the future. The current behavior is equivalent to passing `weights=FasterRCNN_ResNet50_FPN_Weights.COCO_V1`. You can also use `weights=FasterRCNN_ResNet50_FPN_Weights.DEFAULT` to get the most up-to-date weights.\n",
      "  warnings.warn(msg)\n"
     ]
    }
   ],
   "source": [
    "# define the model\n",
    "model = fasterrcnn_resnet50_fpn(pretrained=True)\n",
    "num_classes = 27\n",
    "in_features = model.roi_heads.box_predictor.cls_score.in_features\n",
    "model.roi_heads.box_predictor = FastRCNNPredictor(in_features, num_classes)"
   ]
  },
  {
   "cell_type": "code",
   "execution_count": 13,
   "metadata": {},
   "outputs": [],
   "source": [
    "# training preparation\n",
    "model.to(device)\n",
    "\n",
    "optimizer = optim.Adam(model.parameters(), lr=0.001)\n",
    "epochs = 20\n",
    "\n",
    "H = {}\n",
    "H['train_loss'] = []\n",
    "H['mean_ious'] = []\n",
    "H['val_loss'] = []"
   ]
  },
  {
   "cell_type": "code",
   "execution_count": 14,
   "metadata": {},
   "outputs": [
    {
     "name": "stderr",
     "output_type": "stream",
     "text": [
      "100%|██████████| 150/150 [00:27<00:00,  5.54it/s]\n"
     ]
    },
    {
     "name": "stdout",
     "output_type": "stream",
     "text": [
      "Epoch 1 Training Loss: 4.233819661835829\n"
     ]
    },
    {
     "name": "stderr",
     "output_type": "stream",
     "text": [
      "  0%|          | 0/72 [00:00<?, ?it/s]\n"
     ]
    },
    {
     "ename": "AssertionError",
     "evalue": "targets should not be none when in training mode",
     "output_type": "error",
     "traceback": [
      "\u001b[1;31m---------------------------------------------------------------------------\u001b[0m",
      "\u001b[1;31mAssertionError\u001b[0m                            Traceback (most recent call last)",
      "\u001b[1;32mc:\\Users\\frank\\projects\\ASL_539_Project\\asl_detection.ipynb Cell 17\u001b[0m line \u001b[0;36m4\n\u001b[0;32m     <a href='vscode-notebook-cell:/c%3A/Users/frank/projects/ASL_539_Project/asl_detection.ipynb#X22sZmlsZQ%3D%3D?line=34'>35</a>\u001b[0m losses \u001b[39m=\u001b[39m \u001b[39msum\u001b[39m(loss \u001b[39mfor\u001b[39;00m loss \u001b[39min\u001b[39;00m loss_dict\u001b[39m.\u001b[39mvalues())\n\u001b[0;32m     <a href='vscode-notebook-cell:/c%3A/Users/frank/projects/ASL_539_Project/asl_detection.ipynb#X22sZmlsZQ%3D%3D?line=37'>38</a>\u001b[0m val_loss \u001b[39m+\u001b[39m\u001b[39m=\u001b[39m losses\u001b[39m.\u001b[39mitem()\n\u001b[1;32m---> <a href='vscode-notebook-cell:/c%3A/Users/frank/projects/ASL_539_Project/asl_detection.ipynb#X22sZmlsZQ%3D%3D?line=39'>40</a>\u001b[0m outputs \u001b[39m=\u001b[39m model(images)\n\u001b[0;32m     <a href='vscode-notebook-cell:/c%3A/Users/frank/projects/ASL_539_Project/asl_detection.ipynb#X22sZmlsZQ%3D%3D?line=42'>43</a>\u001b[0m ious \u001b[39m=\u001b[39m []\n\u001b[0;32m     <a href='vscode-notebook-cell:/c%3A/Users/frank/projects/ASL_539_Project/asl_detection.ipynb#X22sZmlsZQ%3D%3D?line=43'>44</a>\u001b[0m iou_idxs \u001b[39m=\u001b[39m []\n",
      "File \u001b[1;32mc:\\Users\\frank\\projects\\ASL_539_Project\\.venv\\lib\\site-packages\\torch\\nn\\modules\\module.py:1518\u001b[0m, in \u001b[0;36mModule._wrapped_call_impl\u001b[1;34m(self, *args, **kwargs)\u001b[0m\n\u001b[0;32m   1516\u001b[0m     \u001b[39mreturn\u001b[39;00m \u001b[39mself\u001b[39m\u001b[39m.\u001b[39m_compiled_call_impl(\u001b[39m*\u001b[39margs, \u001b[39m*\u001b[39m\u001b[39m*\u001b[39mkwargs)  \u001b[39m# type: ignore[misc]\u001b[39;00m\n\u001b[0;32m   1517\u001b[0m \u001b[39melse\u001b[39;00m:\n\u001b[1;32m-> 1518\u001b[0m     \u001b[39mreturn\u001b[39;00m \u001b[39mself\u001b[39m\u001b[39m.\u001b[39m_call_impl(\u001b[39m*\u001b[39margs, \u001b[39m*\u001b[39m\u001b[39m*\u001b[39mkwargs)\n",
      "File \u001b[1;32mc:\\Users\\frank\\projects\\ASL_539_Project\\.venv\\lib\\site-packages\\torch\\nn\\modules\\module.py:1527\u001b[0m, in \u001b[0;36mModule._call_impl\u001b[1;34m(self, *args, **kwargs)\u001b[0m\n\u001b[0;32m   1522\u001b[0m \u001b[39m# If we don't have any hooks, we want to skip the rest of the logic in\u001b[39;00m\n\u001b[0;32m   1523\u001b[0m \u001b[39m# this function, and just call forward.\u001b[39;00m\n\u001b[0;32m   1524\u001b[0m \u001b[39mif\u001b[39;00m \u001b[39mnot\u001b[39;00m (\u001b[39mself\u001b[39m\u001b[39m.\u001b[39m_backward_hooks \u001b[39mor\u001b[39;00m \u001b[39mself\u001b[39m\u001b[39m.\u001b[39m_backward_pre_hooks \u001b[39mor\u001b[39;00m \u001b[39mself\u001b[39m\u001b[39m.\u001b[39m_forward_hooks \u001b[39mor\u001b[39;00m \u001b[39mself\u001b[39m\u001b[39m.\u001b[39m_forward_pre_hooks\n\u001b[0;32m   1525\u001b[0m         \u001b[39mor\u001b[39;00m _global_backward_pre_hooks \u001b[39mor\u001b[39;00m _global_backward_hooks\n\u001b[0;32m   1526\u001b[0m         \u001b[39mor\u001b[39;00m _global_forward_hooks \u001b[39mor\u001b[39;00m _global_forward_pre_hooks):\n\u001b[1;32m-> 1527\u001b[0m     \u001b[39mreturn\u001b[39;00m forward_call(\u001b[39m*\u001b[39margs, \u001b[39m*\u001b[39m\u001b[39m*\u001b[39mkwargs)\n\u001b[0;32m   1529\u001b[0m \u001b[39mtry\u001b[39;00m:\n\u001b[0;32m   1530\u001b[0m     result \u001b[39m=\u001b[39m \u001b[39mNone\u001b[39;00m\n",
      "File \u001b[1;32mc:\\Users\\frank\\projects\\ASL_539_Project\\.venv\\lib\\site-packages\\torchvision\\models\\detection\\generalized_rcnn.py:62\u001b[0m, in \u001b[0;36mGeneralizedRCNN.forward\u001b[1;34m(self, images, targets)\u001b[0m\n\u001b[0;32m     60\u001b[0m \u001b[39mif\u001b[39;00m \u001b[39mself\u001b[39m\u001b[39m.\u001b[39mtraining:\n\u001b[0;32m     61\u001b[0m     \u001b[39mif\u001b[39;00m targets \u001b[39mis\u001b[39;00m \u001b[39mNone\u001b[39;00m:\n\u001b[1;32m---> 62\u001b[0m         torch\u001b[39m.\u001b[39;49m_assert(\u001b[39mFalse\u001b[39;49;00m, \u001b[39m\"\u001b[39;49m\u001b[39mtargets should not be none when in training mode\u001b[39;49m\u001b[39m\"\u001b[39;49m)\n\u001b[0;32m     63\u001b[0m     \u001b[39melse\u001b[39;00m:\n\u001b[0;32m     64\u001b[0m         \u001b[39mfor\u001b[39;00m target \u001b[39min\u001b[39;00m targets:\n",
      "File \u001b[1;32mc:\\Users\\frank\\projects\\ASL_539_Project\\.venv\\lib\\site-packages\\torch\\__init__.py:1404\u001b[0m, in \u001b[0;36m_assert\u001b[1;34m(condition, message)\u001b[0m\n\u001b[0;32m   1402\u001b[0m \u001b[39mif\u001b[39;00m \u001b[39mtype\u001b[39m(condition) \u001b[39mis\u001b[39;00m \u001b[39mnot\u001b[39;00m torch\u001b[39m.\u001b[39mTensor \u001b[39mand\u001b[39;00m has_torch_function((condition,)):\n\u001b[0;32m   1403\u001b[0m     \u001b[39mreturn\u001b[39;00m handle_torch_function(_assert, (condition,), condition, message)\n\u001b[1;32m-> 1404\u001b[0m \u001b[39massert\u001b[39;00m condition, message\n",
      "\u001b[1;31mAssertionError\u001b[0m: targets should not be none when in training mode"
     ]
    }
   ],
   "source": [
    "best_loss = 100.0\n",
    "for epoch in range(epochs):\n",
    "    model.train()\n",
    "    train_loss = 0.0\n",
    "    for images, targets in tqdm(train_dataloader):\n",
    "        optimizer.zero_grad()\n",
    "        images = list(image.to(device) for image in images)\n",
    "        targets = [{k: v.to(device) for k, v in t.items()} for t in targets]\n",
    "\n",
    "        #print(len(images))\n",
    "        #print(len(targets))\n",
    "\n",
    "        loss_dict = model(images, targets)\n",
    "        #print(loss_dict)\n",
    "        #print(type(loss_dict))\n",
    "        losses = sum(loss for loss in loss_dict.values())\n",
    "\n",
    "        losses.backward()\n",
    "        optimizer.step()\n",
    "\n",
    "        train_loss += losses.item()\n",
    "    print(f\"Epoch {epoch + 1} Training Loss: {train_loss/len(train_dataloader)}\")\n",
    "    H[\"train_loss\"].append(train_loss/len(train_dataloader))\n",
    "\n",
    "    #model.eval()\n",
    "    val_loss = 0.0\n",
    "    mean_ious = 0.0\n",
    "\n",
    "    with torch.no_grad():\n",
    "        for images, targets in tqdm(val_dataloader):\n",
    "            images = list(image.to(device) for image in images)\n",
    "            targets = [{k: v.to(device) for k, v in t.items()} for t in targets]\n",
    "\n",
    "            loss_dict = model(images, targets)\n",
    "            losses = sum(loss for loss in loss_dict.values())\n",
    "\n",
    "            \n",
    "            val_loss += losses.item()\n",
    "\n",
    "            outputs = model(images)\n",
    "\n",
    "\n",
    "            ious = []\n",
    "            iou_idxs = []\n",
    "            for i, output in enumerate(outputs):\n",
    "                target_box = targets[i]['boxes'][0].cpu().numpy()\n",
    "                target_box = target_box[None, :]\n",
    "                pred_boxes = output['boxes'].cpu().numpy()\n",
    "\n",
    "                best_iou, best_idx = find_best_iou(pred_boxes, target_box)\n",
    "                ious.append(best_iou)\n",
    "                iou_idxs.append(best_idx)\n",
    "            mean_ious += sum(ious)/len(ious)\n",
    "    tempvalidloss = val_loss/len(val_dataloader) \n",
    "\n",
    "    #loss would randomly spike at some points, this will hopefully fix it the hard way\n",
    "    if tempvalidloss < best_loss:\n",
    "        best_loss = tempvalidloss\n",
    "        torch.save(model.state_dict(), 'models/best-model-parameters.pt')\n",
    "    if tempvalidloss > 2 * best_loss and tempvalidloss > 5:\n",
    "        print(\"previous state loaded instead\")\n",
    "        model.load_state_dict(torch.load('models/best-model-parameters.pt'))\n",
    "    print(f\"Epoch {epoch + 1} Validation Loss: {tempvalidloss}\")\n",
    "    H[\"val_loss\"].append(tempvalidloss)\n",
    "    print(f\"Epoch {epoch + 1} Mean IOU: {mean_ious/len(val_dataloader)}\")\n",
    "    H[\"mean_ious\"].append(mean_ious/len(val_dataloader))\n"
   ]
  },
  {
   "cell_type": "code",
   "execution_count": null,
   "metadata": {},
   "outputs": [],
   "source": [
    "# save model\n",
    "\n",
    "torch.save(model.state_dict(), 'models/trained_model.pth')"
   ]
  },
  {
   "cell_type": "code",
   "execution_count": null,
   "metadata": {},
   "outputs": [
    {
     "name": "stderr",
     "output_type": "stream",
     "text": [
      "  0%|          | 0/18 [00:00<?, ?it/s]\n"
     ]
    },
    {
     "ename": "AttributeError",
     "evalue": "'list' object has no attribute 'values'",
     "output_type": "error",
     "traceback": [
      "\u001b[1;31m---------------------------------------------------------------------------\u001b[0m",
      "\u001b[1;31mAttributeError\u001b[0m                            Traceback (most recent call last)",
      "\u001b[1;32mc:\\Users\\frank\\projects\\ASL_539_Project\\asl_detection.ipynb Cell 19\u001b[0m line \u001b[0;36m1\n\u001b[0;32m      <a href='vscode-notebook-cell:/c%3A/Users/frank/projects/ASL_539_Project/asl_detection.ipynb#X26sZmlsZQ%3D%3D?line=8'>9</a>\u001b[0m targets \u001b[39m=\u001b[39m [{k: v\u001b[39m.\u001b[39mto(device) \u001b[39mfor\u001b[39;00m k, v \u001b[39min\u001b[39;00m t\u001b[39m.\u001b[39mitems()} \u001b[39mfor\u001b[39;00m t \u001b[39min\u001b[39;00m targets]\n\u001b[0;32m     <a href='vscode-notebook-cell:/c%3A/Users/frank/projects/ASL_539_Project/asl_detection.ipynb#X26sZmlsZQ%3D%3D?line=10'>11</a>\u001b[0m loss_dict \u001b[39m=\u001b[39m model(images, targets)\n\u001b[1;32m---> <a href='vscode-notebook-cell:/c%3A/Users/frank/projects/ASL_539_Project/asl_detection.ipynb#X26sZmlsZQ%3D%3D?line=11'>12</a>\u001b[0m losses \u001b[39m=\u001b[39m \u001b[39msum\u001b[39m(loss \u001b[39mfor\u001b[39;00m loss \u001b[39min\u001b[39;00m loss_dict\u001b[39m.\u001b[39;49mvalues())\n\u001b[0;32m     <a href='vscode-notebook-cell:/c%3A/Users/frank/projects/ASL_539_Project/asl_detection.ipynb#X26sZmlsZQ%3D%3D?line=12'>13</a>\u001b[0m val_loss \u001b[39m+\u001b[39m\u001b[39m=\u001b[39m losses\u001b[39m.\u001b[39mitem()\n\u001b[0;32m     <a href='vscode-notebook-cell:/c%3A/Users/frank/projects/ASL_539_Project/asl_detection.ipynb#X26sZmlsZQ%3D%3D?line=14'>15</a>\u001b[0m outputs \u001b[39m=\u001b[39m model(images)\n",
      "\u001b[1;31mAttributeError\u001b[0m: 'list' object has no attribute 'values'"
     ]
    }
   ],
   "source": [
    "#testing\n",
    "from sklearn.metrics import confusion_matrix, accuracy_score\n",
    "\n",
    "model.eval()\n",
    "mean_ious = 0.0\n",
    "with torch.no_grad():\n",
    "    for images, targets in tqdm(val_dataloader):\n",
    "        images = list(image.to(device) for image in images)\n",
    "        targets = [{k: v.to(device) for k, v in t.items()} for t in targets]\n",
    "\n",
    "        loss_dict = model(images, targets)\n",
    "        losses = sum(loss for loss in loss_dict.values())\n",
    "        val_loss += losses.item()\n",
    "\n",
    "        outputs = model(images)\n",
    "\n",
    "\n",
    "        ious = []\n",
    "        iou_idxs = []\n",
    "        for i, output in enumerate(outputs):\n",
    "            target_box = targets[i]['boxes'][0].cpu().numpy()\n",
    "            target_box = target_box[None, :]\n",
    "            pred_boxes = output['boxes'].cpu().numpy()\n",
    "\n",
    "            best_iou, best_idx = find_best_iou(pred_boxes, target_box)\n",
    "            ious.append(best_iou)\n",
    "            iou_idxs.append(best_idx)\n",
    "        mean_ious += sum(ious)/len(ious)\n",
    "tempvalidloss = val_loss/len(val_dataloader) \n",
    "print(f\"Epoch {epoch + 1} Validation Loss: {tempvalidloss}\")\n",
    "print(f\"Epoch {epoch + 1} Mean IOU: {mean_ious/len(val_dataloader)}\")\n"
   ]
  }
 ],
 "metadata": {
  "kernelspec": {
   "display_name": "base",
   "language": "python",
   "name": "python3"
  },
  "language_info": {
   "codemirror_mode": {
    "name": "ipython",
    "version": 3
   },
   "file_extension": ".py",
   "mimetype": "text/x-python",
   "name": "python",
   "nbconvert_exporter": "python",
   "pygments_lexer": "ipython3",
   "version": "3.9.0"
  }
 },
 "nbformat": 4,
 "nbformat_minor": 2
}
