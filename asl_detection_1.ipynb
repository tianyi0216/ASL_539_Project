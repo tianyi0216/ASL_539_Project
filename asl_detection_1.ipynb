{
 "cells": [
  {
   "cell_type": "markdown",
   "metadata": {},
   "source": [
    "## Data Preprocessing Part"
   ]
  },
  {
   "cell_type": "code",
   "execution_count": 1,
   "metadata": {},
   "outputs": [
    {
     "name": "stdout",
     "output_type": "stream",
     "text": [
      "c:\\Users\\tiany\\anaconda3\\python.exe\n"
     ]
    }
   ],
   "source": [
    "# imports\n",
    "TESTING = False\n",
    "import sys\n",
    "print(sys.executable)\n",
    "import pandas as pd\n",
    "from PIL import Image\n",
    "from torchvision.models.detection import fasterrcnn_resnet50_fpn\n",
    "from torchvision.models.detection.faster_rcnn import FastRCNNPredictor\n",
    "from torch.utils.data import DataLoader, Dataset\n",
    "import torchvision.transforms as transforms\n",
    "import torch\n",
    "import torchvision\n",
    "import torch.optim as optim\n",
    "import os\n",
    "from tqdm import tqdm\n",
    "from torchvision.ops import box_iou\n",
    "import numpy as np\n",
    "import matplotlib.pyplot as plt"
   ]
  },
  {
   "cell_type": "code",
   "execution_count": 2,
   "metadata": {},
   "outputs": [
    {
     "name": "stdout",
     "output_type": "stream",
     "text": [
      "cuda\n"
     ]
    }
   ],
   "source": [
    "# check if cuda is available\n",
    "device = torch.device('cuda') if torch.cuda.is_available() else torch.device('cpu')\n",
    "print(device)"
   ]
  },
  {
   "cell_type": "code",
   "execution_count": 3,
   "metadata": {},
   "outputs": [
    {
     "name": "stdout",
     "output_type": "stream",
     "text": [
      "Number of training, validation and testing samples\n",
      "1512\n",
      "144\n",
      "72\n",
      "min and max width and height of training images:  512 512 512 512\n",
      "min and max width and height of validation images:  512 512 512 512\n",
      "min and max width and height of testing images:  512 512 512 512\n"
     ]
    }
   ],
   "source": [
    "# load in data\n",
    "\n",
    "train_annotation = pd.read_csv('data/train/_annotations.csv')\n",
    "val_annotation = pd.read_csv('data/valid/_annotations.csv')\n",
    "test_annotation = pd.read_csv('data/test/_annotations.csv')\n",
    "\n",
    "if TESTING: #reduce data size to increase testing speed\n",
    "    train_annotation = train_annotation[:100]\n",
    "\n",
    "# print the number of samples of the data\n",
    "print(\"Number of training, validation and testing samples\")\n",
    "print(len(train_annotation))\n",
    "print(len(val_annotation))\n",
    "print(len(test_annotation))\n",
    "\n",
    "# check the dimension of image is the same\n",
    "print(\"min and max width and height of training images: \", train_annotation['width'].min(), train_annotation['width'].max(), train_annotation['height'].min(), train_annotation['height'].max())\n",
    "print(\"min and max width and height of validation images: \", val_annotation['width'].min(), val_annotation['width'].max(), val_annotation['height'].min(), val_annotation['height'].max())\n",
    "print(\"min and max width and height of testing images: \", test_annotation['width'].min(), test_annotation['width'].max(), test_annotation['height'].min(), test_annotation['height'].max())"
   ]
  },
  {
   "cell_type": "code",
   "execution_count": 4,
   "metadata": {},
   "outputs": [],
   "source": [
    "# function map the class name to an integer\n",
    "def charToVal(c):\n",
    "    return ord(c) - 64\n",
    "\n",
    "def valToChar(v):\n",
    "    return chr(v + 64)"
   ]
  },
  {
   "cell_type": "markdown",
   "metadata": {},
   "source": [
    "## Dataset Class"
   ]
  },
  {
   "cell_type": "code",
   "execution_count": 5,
   "metadata": {},
   "outputs": [],
   "source": [
    "# image dimension\n",
    "img_width = 512\n",
    "img_height = 512"
   ]
  },
  {
   "cell_type": "code",
   "execution_count": 6,
   "metadata": {},
   "outputs": [],
   "source": [
    "# create the dataset class\n",
    "\n",
    "class ASLDataset(Dataset):\n",
    "    \"\"\"\n",
    "    Custom ASL dataset needed for training\n",
    "    \"\"\"\n",
    "    def __init__(self, annotation, img_dir, transforms=None):\n",
    "        # initialize the annotation, paths to images, and transforms\n",
    "        self.annotation = annotation\n",
    "        self.img_dir = img_dir\n",
    "        self.transforms = transforms\n",
    "\n",
    "    def __len__(self):\n",
    "        # return the length of the dataset\n",
    "        return len(self.annotation)\n",
    "    \n",
    "    def __getitem__(self, idx):\n",
    "        filename = self.annotation.at[idx, 'filename']\n",
    "        \n",
    "        class_name = self.annotation.at[idx, 'class']\n",
    "        xmin = self.annotation.at[idx, 'xmin']\n",
    "        xmax = self.annotation.at[idx, 'xmax']\n",
    "        ymin = self.annotation.at[idx, 'ymin']\n",
    "        ymax = self.annotation.at[idx, 'ymax']\n",
    "\n",
    "        # read in the image\n",
    "        path = os.path.join(self.img_dir, filename)\n",
    "        img = Image.open(path).convert(\"RGB\")\n",
    "\n",
    "        if self.transforms is not None:\n",
    "            img = self.transforms(img)\n",
    "\n",
    "        # target\n",
    "        target = {}\n",
    "        target['boxes'] = torch.as_tensor([[xmin, ymin, xmax, ymax]], dtype=torch.float32)\n",
    "        target['labels'] = torch.as_tensor([charToVal(class_name)], dtype=torch.int64)\n",
    "\n",
    "        return img, target"
   ]
  },
  {
   "cell_type": "code",
   "execution_count": 7,
   "metadata": {},
   "outputs": [],
   "source": [
    "# define the transforms\n",
    "data_transform = transforms.Compose([\n",
    "    transforms.ToTensor(),\n",
    "])\n",
    "\n",
    "# create the dataset\n",
    "train_dataset = ASLDataset(train_annotation, 'data/train', data_transform)\n",
    "val_dataset = ASLDataset(val_annotation, 'data/valid', data_transform)\n",
    "test_dataset = ASLDataset(test_annotation, 'data/test', data_transform)"
   ]
  },
  {
   "cell_type": "markdown",
   "metadata": {},
   "source": [
    "## Model Training Part"
   ]
  },
  {
   "cell_type": "code",
   "execution_count": 8,
   "metadata": {},
   "outputs": [],
   "source": [
    "def iou(boxA, boxB):\n",
    "    xA = max(boxA[0], boxB[0])\n",
    "    yA = max(boxA[1], boxB[1])\n",
    "    xB = min(boxA[2], boxB[2])\n",
    "    yB = min(boxA[3], boxB[3])\n",
    "\n",
    "    intersection = max(0, xB - xA + 1) * max(0, yB - yA + 1)\n",
    "\n",
    "    areaA = (boxA[2] - boxA[0] + 1) * (boxA[3] - boxA[1] + 1)\n",
    "    areaB = (boxB[2] - boxB[0] + 1) * (boxB[3] - boxB[1] + 1)\n",
    "\n",
    "    return intersection / float(areaA + areaB - intersection)"
   ]
  },
  {
   "cell_type": "code",
   "execution_count": 9,
   "metadata": {},
   "outputs": [
    {
     "name": "stdout",
     "output_type": "stream",
     "text": [
      "0.3423121640133071 0\n"
     ]
    }
   ],
   "source": [
    "def find_best_iou(pred_box, target_box):\n",
    "    best_iou = 0\n",
    "    best_index = -1\n",
    "    for i, box in enumerate(pred_box):\n",
    "        curr_iou = iou(box, target_box)\n",
    "        if curr_iou > best_iou:\n",
    "            best_iou = curr_iou\n",
    "            best_index = i\n",
    "    return best_iou, best_index\n",
    "\n",
    "#test find best iou\n",
    "\n",
    "target_box = np.array([32., 15., 263., 326.,])\n",
    "pred_boxes = np.array([[37., 65., 395., 512.], [75.232, 161.32132, 401.234, 486.213]])\n",
    "\n",
    "best_iou, best_idx = find_best_iou(pred_boxes, target_box)\n",
    "print(best_iou, best_idx)"
   ]
  },
  {
   "cell_type": "code",
   "execution_count": 10,
   "metadata": {},
   "outputs": [],
   "source": [
    "# collate function\n",
    "def collate_fn(batch):\n",
    "    images, targets = zip(*batch)\n",
    "    images = list(images)\n",
    "    targets = list(targets)\n",
    "    return images, targets"
   ]
  },
  {
   "cell_type": "code",
   "execution_count": 11,
   "metadata": {},
   "outputs": [],
   "source": [
    "# initialize dataloaders\n",
    "batch_size = 4\n",
    "train_dataloader = DataLoader(train_dataset, batch_size=batch_size, shuffle=True, num_workers=0, collate_fn=collate_fn)\n",
    "val_dataloader = DataLoader(val_dataset, batch_size=batch_size, shuffle=True, num_workers=0, collate_fn=collate_fn)\n",
    "test_dataloader = DataLoader(test_dataset, batch_size=batch_size, shuffle=True, num_workers=0, collate_fn=collate_fn)"
   ]
  },
  {
   "cell_type": "code",
   "execution_count": 12,
   "metadata": {},
   "outputs": [
    {
     "name": "stderr",
     "output_type": "stream",
     "text": [
      "100%|██████████| 378/378 [00:10<00:00, 35.24it/s]"
     ]
    },
    {
     "name": "stdout",
     "output_type": "stream",
     "text": [
      "{1, 2, 3, 4, 5, 6, 7, 8, 9, 10, 11, 12, 13, 14, 15, 16, 17, 18, 19, 20, 21, 22, 23, 24, 25, 26}\n"
     ]
    },
    {
     "name": "stderr",
     "output_type": "stream",
     "text": [
      "\n"
     ]
    }
   ],
   "source": [
    "# check for possible classes in the dataloader\n",
    "\n",
    "classes = []\n",
    "for images, targets in tqdm(train_dataloader):\n",
    "    for target in targets:\n",
    "        classes.append(target['labels'][0].item())\n",
    "classes = set(classes)\n",
    "print(classes)"
   ]
  },
  {
   "cell_type": "code",
   "execution_count": 13,
   "metadata": {},
   "outputs": [
    {
     "name": "stdout",
     "output_type": "stream",
     "text": [
      "[tensor([[[0.4627, 0.4078, 0.4196,  ..., 0.7020, 0.6863, 0.6745],\n",
      "         [0.4824, 0.4275, 0.4235,  ..., 0.6784, 0.6588, 0.6471],\n",
      "         [0.4980, 0.4392, 0.4275,  ..., 0.6000, 0.5804, 0.5686],\n",
      "         ...,\n",
      "         [0.0510, 0.0549, 0.0549,  ..., 0.1804, 0.1804, 0.1804],\n",
      "         [0.0510, 0.0510, 0.0549,  ..., 0.1804, 0.1804, 0.1804],\n",
      "         [0.0510, 0.0510, 0.0510,  ..., 0.1804, 0.1804, 0.1804]],\n",
      "\n",
      "        [[0.3725, 0.3137, 0.3098,  ..., 0.7608, 0.7451, 0.7294],\n",
      "         [0.3922, 0.3255, 0.3137,  ..., 0.7333, 0.7137, 0.7020],\n",
      "         [0.4078, 0.3373, 0.3176,  ..., 0.6510, 0.6314, 0.6196],\n",
      "         ...,\n",
      "         [0.0275, 0.0314, 0.0314,  ..., 0.0471, 0.0471, 0.0471],\n",
      "         [0.0275, 0.0275, 0.0314,  ..., 0.0471, 0.0510, 0.0510],\n",
      "         [0.0275, 0.0275, 0.0275,  ..., 0.0471, 0.0510, 0.0510]],\n",
      "\n",
      "        [[0.2510, 0.2039, 0.2157,  ..., 0.6471, 0.6314, 0.6275],\n",
      "         [0.2706, 0.2196, 0.2196,  ..., 0.6353, 0.6157, 0.6118],\n",
      "         [0.2863, 0.2314, 0.2235,  ..., 0.5843, 0.5647, 0.5529],\n",
      "         ...,\n",
      "         [0.0275, 0.0314, 0.0314,  ..., 0.0392, 0.0392, 0.0392],\n",
      "         [0.0353, 0.0353, 0.0392,  ..., 0.0392, 0.0314, 0.0314],\n",
      "         [0.0353, 0.0353, 0.0353,  ..., 0.0392, 0.0314, 0.0314]]]), tensor([[[0.0000, 0.0000, 0.0000,  ..., 0.0000, 0.0157, 0.0000],\n",
      "         [0.0000, 0.0000, 0.0000,  ..., 0.0000, 0.0000, 0.0000],\n",
      "         [0.0000, 0.0000, 0.0000,  ..., 0.0039, 0.0000, 0.0078],\n",
      "         ...,\n",
      "         [0.0000, 0.0000, 0.0000,  ..., 0.0000, 0.0000, 0.0000],\n",
      "         [0.0000, 0.0000, 0.0000,  ..., 0.0000, 0.0000, 0.0000],\n",
      "         [0.0000, 0.0000, 0.0000,  ..., 0.0000, 0.0000, 0.0000]],\n",
      "\n",
      "        [[0.0000, 0.0000, 0.0000,  ..., 0.0000, 0.0314, 0.0118],\n",
      "         [0.0000, 0.0000, 0.0000,  ..., 0.0000, 0.0039, 0.0000],\n",
      "         [0.0000, 0.0000, 0.0000,  ..., 0.0078, 0.0000, 0.0118],\n",
      "         ...,\n",
      "         [0.0000, 0.0000, 0.0000,  ..., 0.0000, 0.0000, 0.0000],\n",
      "         [0.0000, 0.0000, 0.0000,  ..., 0.0000, 0.0000, 0.0000],\n",
      "         [0.0000, 0.0000, 0.0000,  ..., 0.0000, 0.0000, 0.0000]],\n",
      "\n",
      "        [[0.0000, 0.0000, 0.0000,  ..., 0.0353, 0.0745, 0.0549],\n",
      "         [0.0000, 0.0000, 0.0000,  ..., 0.0275, 0.0392, 0.0353],\n",
      "         [0.0000, 0.0000, 0.0000,  ..., 0.0235, 0.0196, 0.0314],\n",
      "         ...,\n",
      "         [0.0000, 0.0000, 0.0000,  ..., 0.0000, 0.0000, 0.0000],\n",
      "         [0.0000, 0.0000, 0.0000,  ..., 0.0000, 0.0000, 0.0000],\n",
      "         [0.0000, 0.0000, 0.0000,  ..., 0.0000, 0.0000, 0.0000]]]), tensor([[[0.0353, 0.0353, 0.0353,  ..., 0.0275, 0.0275, 0.0275],\n",
      "         [0.0353, 0.0353, 0.0353,  ..., 0.0275, 0.0275, 0.0275],\n",
      "         [0.0314, 0.0314, 0.0314,  ..., 0.0275, 0.0275, 0.0275],\n",
      "         ...,\n",
      "         [0.0196, 0.0157, 0.0471,  ..., 0.0118, 0.0039, 0.0000],\n",
      "         [0.0275, 0.0196, 0.0510,  ..., 0.0549, 0.0431, 0.0118],\n",
      "         [0.0314, 0.0235, 0.0549,  ..., 0.0157, 0.0196, 0.0000]],\n",
      "\n",
      "        [[0.0275, 0.0275, 0.0275,  ..., 0.0353, 0.0353, 0.0353],\n",
      "         [0.0275, 0.0275, 0.0275,  ..., 0.0353, 0.0353, 0.0353],\n",
      "         [0.0314, 0.0314, 0.0314,  ..., 0.0353, 0.0353, 0.0353],\n",
      "         ...,\n",
      "         [0.0431, 0.0196, 0.0275,  ..., 0.0000, 0.0235, 0.0275],\n",
      "         [0.0510, 0.0235, 0.0275,  ..., 0.0392, 0.0627, 0.0549],\n",
      "         [0.0549, 0.0275, 0.0314,  ..., 0.0000, 0.0392, 0.0275]],\n",
      "\n",
      "        [[0.0392, 0.0392, 0.0392,  ..., 0.0235, 0.0235, 0.0235],\n",
      "         [0.0392, 0.0392, 0.0392,  ..., 0.0235, 0.0235, 0.0235],\n",
      "         [0.0392, 0.0392, 0.0392,  ..., 0.0314, 0.0235, 0.0235],\n",
      "         ...,\n",
      "         [0.0353, 0.0353, 0.0549,  ..., 0.0000, 0.0353, 0.0471],\n",
      "         [0.0510, 0.0431, 0.0667,  ..., 0.0275, 0.0745, 0.0784],\n",
      "         [0.0549, 0.0471, 0.0706,  ..., 0.0000, 0.0549, 0.0510]]]), tensor([[[0.4078, 0.3961, 0.3765,  ..., 0.6078, 0.6078, 0.6078],\n",
      "         [0.4118, 0.3961, 0.3804,  ..., 0.6118, 0.6118, 0.6118],\n",
      "         [0.4078, 0.4000, 0.3882,  ..., 0.6118, 0.6118, 0.6118],\n",
      "         ...,\n",
      "         [0.8118, 0.8118, 0.8157,  ..., 0.7098, 0.7098, 0.7098],\n",
      "         [0.8078, 0.8078, 0.8078,  ..., 0.7059, 0.7059, 0.7059],\n",
      "         [0.8039, 0.8039, 0.8039,  ..., 0.7020, 0.7020, 0.7020]],\n",
      "\n",
      "        [[0.1059, 0.0863, 0.0667,  ..., 0.5686, 0.5686, 0.5686],\n",
      "         [0.1098, 0.0941, 0.0706,  ..., 0.5725, 0.5725, 0.5725],\n",
      "         [0.1098, 0.0980, 0.0784,  ..., 0.5725, 0.5725, 0.5725],\n",
      "         ...,\n",
      "         [0.5608, 0.5608, 0.5647,  ..., 0.4745, 0.4706, 0.4706],\n",
      "         [0.5569, 0.5569, 0.5569,  ..., 0.4706, 0.4706, 0.4667],\n",
      "         [0.5529, 0.5529, 0.5529,  ..., 0.4667, 0.4667, 0.4667]],\n",
      "\n",
      "        [[0.0353, 0.0275, 0.0157,  ..., 0.5647, 0.5647, 0.5647],\n",
      "         [0.0471, 0.0314, 0.0196,  ..., 0.5686, 0.5686, 0.5686],\n",
      "         [0.0471, 0.0353, 0.0275,  ..., 0.5686, 0.5686, 0.5686],\n",
      "         ...,\n",
      "         [0.2196, 0.2196, 0.2235,  ..., 0.0431, 0.0510, 0.0510],\n",
      "         [0.2157, 0.2157, 0.2157,  ..., 0.0392, 0.0392, 0.0471],\n",
      "         [0.2118, 0.2118, 0.2118,  ..., 0.0353, 0.0353, 0.0353]]])]\n",
      "[{'boxes': tensor([[ 71.,   4., 400., 431.]]), 'labels': tensor([17])}, {'boxes': tensor([[  0.,  70., 510., 512.]]), 'labels': tensor([12])}, {'boxes': tensor([[188., 104., 511., 487.]]), 'labels': tensor([24])}, {'boxes': tensor([[118.,  59., 347., 356.]]), 'labels': tensor([24])}]\n"
     ]
    }
   ],
   "source": [
    "# check the dataloader\n",
    "images, targets = next(iter(train_dataloader))\n",
    "print(images)\n",
    "print(targets)"
   ]
  },
  {
   "cell_type": "code",
   "execution_count": 14,
   "metadata": {},
   "outputs": [
    {
     "name": "stderr",
     "output_type": "stream",
     "text": [
      "c:\\Users\\tiany\\anaconda3\\Lib\\site-packages\\torchvision\\models\\_utils.py:208: UserWarning: The parameter 'pretrained' is deprecated since 0.13 and may be removed in the future, please use 'weights' instead.\n",
      "  warnings.warn(\n",
      "c:\\Users\\tiany\\anaconda3\\Lib\\site-packages\\torchvision\\models\\_utils.py:223: UserWarning: Arguments other than a weight enum or `None` for 'weights' are deprecated since 0.13 and may be removed in the future. The current behavior is equivalent to passing `weights=FasterRCNN_ResNet50_FPN_Weights.COCO_V1`. You can also use `weights=FasterRCNN_ResNet50_FPN_Weights.DEFAULT` to get the most up-to-date weights.\n",
      "  warnings.warn(msg)\n"
     ]
    }
   ],
   "source": [
    "# define the model\n",
    "model = fasterrcnn_resnet50_fpn(pretrained=True)\n",
    "num_classes = 27\n",
    "in_features = model.roi_heads.box_predictor.cls_score.in_features\n",
    "model.roi_heads.box_predictor = FastRCNNPredictor(in_features, num_classes)"
   ]
  },
  {
   "cell_type": "code",
   "execution_count": 15,
   "metadata": {},
   "outputs": [],
   "source": [
    "# training preparation\n",
    "model.to(device)\n",
    "\n",
    "optimizer = optim.Adam(model.parameters(), lr=0.001)\n",
    "epochs = 10\n",
    "\n",
    "H = {}\n",
    "H['train_loss'] = []\n",
    "H['val_ious'] = []\n",
    "H['val_acc'] = []\n",
    "H['loss_classifier'] = []\n",
    "H['loss_box_reg'] = []\n",
    "H['loss_objectness'] = []\n",
    "H['loss_rpn_box_reg'] = []"
   ]
  },
  {
   "cell_type": "code",
   "execution_count": 16,
   "metadata": {},
   "outputs": [
    {
     "name": "stderr",
     "output_type": "stream",
     "text": [
      "100%|██████████| 378/378 [05:01<00:00,  1.25it/s]\n"
     ]
    },
    {
     "name": "stdout",
     "output_type": "stream",
     "text": [
      "Epoch 1 Loss: 0.3071966469682083\n"
     ]
    },
    {
     "name": "stderr",
     "output_type": "stream",
     "text": [
      "100%|██████████| 36/36 [00:14<00:00,  2.47it/s]\n"
     ]
    },
    {
     "name": "stdout",
     "output_type": "stream",
     "text": [
      "Epoch 1 Mean IOU: 0.6981523858105834\n",
      "Epoch 1 Mean Accuracy: 0.09722222222222222\n"
     ]
    },
    {
     "name": "stderr",
     "output_type": "stream",
     "text": [
      "100%|██████████| 378/378 [05:03<00:00,  1.25it/s]\n"
     ]
    },
    {
     "name": "stdout",
     "output_type": "stream",
     "text": [
      "Epoch 2 Loss: 0.24893990028945226\n"
     ]
    },
    {
     "name": "stderr",
     "output_type": "stream",
     "text": [
      "100%|██████████| 36/36 [00:13<00:00,  2.65it/s]\n"
     ]
    },
    {
     "name": "stdout",
     "output_type": "stream",
     "text": [
      "Epoch 2 Mean IOU: 0.7009623918519878\n",
      "Epoch 2 Mean Accuracy: 0.10416666666666667\n"
     ]
    },
    {
     "name": "stderr",
     "output_type": "stream",
     "text": [
      "100%|██████████| 378/378 [05:06<00:00,  1.23it/s]\n"
     ]
    },
    {
     "name": "stdout",
     "output_type": "stream",
     "text": [
      "Epoch 3 Loss: 0.2819862462304257\n"
     ]
    },
    {
     "name": "stderr",
     "output_type": "stream",
     "text": [
      "100%|██████████| 36/36 [00:13<00:00,  2.68it/s]\n"
     ]
    },
    {
     "name": "stdout",
     "output_type": "stream",
     "text": [
      "Epoch 3 Mean IOU: 0.7632609638874606\n",
      "Epoch 3 Mean Accuracy: 0.1388888888888889\n"
     ]
    },
    {
     "name": "stderr",
     "output_type": "stream",
     "text": [
      "100%|██████████| 378/378 [05:00<00:00,  1.26it/s]\n"
     ]
    },
    {
     "name": "stdout",
     "output_type": "stream",
     "text": [
      "Epoch 4 Loss: 0.2637287623510159\n"
     ]
    },
    {
     "name": "stderr",
     "output_type": "stream",
     "text": [
      "100%|██████████| 36/36 [00:13<00:00,  2.69it/s]\n"
     ]
    },
    {
     "name": "stdout",
     "output_type": "stream",
     "text": [
      "Epoch 4 Mean IOU: 0.7939354226175105\n",
      "Epoch 4 Mean Accuracy: 0.1111111111111111\n"
     ]
    },
    {
     "name": "stderr",
     "output_type": "stream",
     "text": [
      "100%|██████████| 378/378 [05:01<00:00,  1.26it/s]\n"
     ]
    },
    {
     "name": "stdout",
     "output_type": "stream",
     "text": [
      "Epoch 5 Loss: 0.27444702658861403\n"
     ]
    },
    {
     "name": "stderr",
     "output_type": "stream",
     "text": [
      "100%|██████████| 36/36 [00:13<00:00,  2.59it/s]\n"
     ]
    },
    {
     "name": "stdout",
     "output_type": "stream",
     "text": [
      "Epoch 5 Mean IOU: 0.7974847851263348\n",
      "Epoch 5 Mean Accuracy: 0.1527777777777778\n"
     ]
    },
    {
     "name": "stderr",
     "output_type": "stream",
     "text": [
      "100%|██████████| 378/378 [05:03<00:00,  1.25it/s]\n"
     ]
    },
    {
     "name": "stdout",
     "output_type": "stream",
     "text": [
      "Epoch 6 Loss: 0.25181512625286817\n"
     ]
    },
    {
     "name": "stderr",
     "output_type": "stream",
     "text": [
      "100%|██████████| 36/36 [00:13<00:00,  2.63it/s]\n"
     ]
    },
    {
     "name": "stdout",
     "output_type": "stream",
     "text": [
      "Epoch 6 Mean IOU: 0.8284675120197568\n",
      "Epoch 6 Mean Accuracy: 0.2222222222222222\n"
     ]
    },
    {
     "name": "stderr",
     "output_type": "stream",
     "text": [
      "100%|██████████| 378/378 [05:09<00:00,  1.22it/s]\n"
     ]
    },
    {
     "name": "stdout",
     "output_type": "stream",
     "text": [
      "Epoch 7 Loss: 0.2533469888426009\n"
     ]
    },
    {
     "name": "stderr",
     "output_type": "stream",
     "text": [
      "100%|██████████| 36/36 [00:14<00:00,  2.55it/s]\n"
     ]
    },
    {
     "name": "stdout",
     "output_type": "stream",
     "text": [
      "Epoch 7 Mean IOU: 0.8326436718628102\n",
      "Epoch 7 Mean Accuracy: 0.2222222222222222\n"
     ]
    },
    {
     "name": "stderr",
     "output_type": "stream",
     "text": [
      "  8%|▊         | 30/378 [00:25<04:58,  1.17it/s]\n"
     ]
    },
    {
     "ename": "KeyboardInterrupt",
     "evalue": "",
     "output_type": "error",
     "traceback": [
      "\u001b[1;31m---------------------------------------------------------------------------\u001b[0m",
      "\u001b[1;31mKeyboardInterrupt\u001b[0m                         Traceback (most recent call last)",
      "\u001b[1;32md:\\github_staff\\ASL_539_Project\\asl_detection_1.ipynb Cell 19\u001b[0m line \u001b[0;36m2\n\u001b[0;32m     <a href='vscode-notebook-cell:/d%3A/github_staff/ASL_539_Project/asl_detection_1.ipynb#X24sZmlsZQ%3D%3D?line=22'>23</a>\u001b[0m optimizer\u001b[39m.\u001b[39mstep()\n\u001b[0;32m     <a href='vscode-notebook-cell:/d%3A/github_staff/ASL_539_Project/asl_detection_1.ipynb#X24sZmlsZQ%3D%3D?line=24'>25</a>\u001b[0m train_loss \u001b[39m+\u001b[39m\u001b[39m=\u001b[39m losses\u001b[39m.\u001b[39mitem()\n\u001b[1;32m---> <a href='vscode-notebook-cell:/d%3A/github_staff/ASL_539_Project/asl_detection_1.ipynb#X24sZmlsZQ%3D%3D?line=25'>26</a>\u001b[0m loss_classifier \u001b[39m+\u001b[39m\u001b[39m=\u001b[39m loss_dict[\u001b[39m'\u001b[39m\u001b[39mloss_classifier\u001b[39m\u001b[39m'\u001b[39m]\u001b[39m.\u001b[39mitem()\n\u001b[0;32m     <a href='vscode-notebook-cell:/d%3A/github_staff/ASL_539_Project/asl_detection_1.ipynb#X24sZmlsZQ%3D%3D?line=26'>27</a>\u001b[0m loss_box_reg \u001b[39m+\u001b[39m\u001b[39m=\u001b[39m loss_dict[\u001b[39m'\u001b[39m\u001b[39mloss_box_reg\u001b[39m\u001b[39m'\u001b[39m]\u001b[39m.\u001b[39mitem()\n\u001b[0;32m     <a href='vscode-notebook-cell:/d%3A/github_staff/ASL_539_Project/asl_detection_1.ipynb#X24sZmlsZQ%3D%3D?line=27'>28</a>\u001b[0m loss_objectness \u001b[39m+\u001b[39m\u001b[39m=\u001b[39m loss_dict[\u001b[39m'\u001b[39m\u001b[39mloss_objectness\u001b[39m\u001b[39m'\u001b[39m]\u001b[39m.\u001b[39mitem()\n",
      "\u001b[1;31mKeyboardInterrupt\u001b[0m: "
     ]
    }
   ],
   "source": [
    "for epoch in range(epochs):\n",
    "    model.train()\n",
    "    train_loss = 0.0\n",
    "    loss_classifier = 0.0\n",
    "    loss_box_reg = 0.0\n",
    "    loss_objectness = 0.0\n",
    "    loss_rpn_box_reg = 0.0\n",
    "    for images, targets in tqdm(train_dataloader):\n",
    "        optimizer.zero_grad()\n",
    "        images = list(image.to(device) for image in images)\n",
    "        \n",
    "        \n",
    "        targets = [{k: v.to(device) for k, v in t.items()} for t in targets]\n",
    "\n",
    "        #print(len(images))\n",
    "        #print(len(targets))\n",
    "        loss_dict = model(images, targets)\n",
    "        #print('targets: ', targets)\n",
    "        #print(loss_dict)\n",
    "        losses = sum(loss for loss in loss_dict.values())\n",
    "\n",
    "        losses.backward()\n",
    "        optimizer.step()\n",
    "\n",
    "        train_loss += losses.item()\n",
    "        loss_classifier += loss_dict['loss_classifier'].item()\n",
    "        loss_box_reg += loss_dict['loss_box_reg'].item()\n",
    "        loss_objectness += loss_dict['loss_objectness'].item()\n",
    "        loss_rpn_box_reg += loss_dict['loss_rpn_box_reg'].item()\n",
    "    print(f\"Epoch {epoch + 1} Loss: {train_loss/len(train_dataloader)}\")\n",
    "    H[\"train_loss\"].append(train_loss/len(train_dataloader))\n",
    "    H[\"loss_classifier\"].append(loss_classifier/len(train_dataloader))\n",
    "    H[\"loss_box_reg\"].append(loss_box_reg/len(train_dataloader))\n",
    "    H[\"loss_objectness\"].append(loss_objectness/len(train_dataloader))\n",
    "    H[\"loss_rpn_box_reg\"].append(loss_rpn_box_reg/len(train_dataloader))\n",
    "\n",
    "    model.eval()\n",
    "    mean_ious = 0.0\n",
    "    mean_acc = 0.0\n",
    "    \n",
    "    with torch.no_grad():\n",
    "        for images, targets in tqdm(val_dataloader):\n",
    "            images = list(image.to(device) for image in images)\n",
    "            targets = [{k: v.to(device) for k, v in t.items()} for t in targets]\n",
    "\n",
    "            outputs = model(images)\n",
    "            #print(outputs)\n",
    "\n",
    "            ious = []\n",
    "            iou_idxs = []\n",
    "            true_classes = []\n",
    "            pred_classes = []\n",
    "\n",
    "            for i, output in enumerate(outputs):\n",
    "                target_box = targets[i]['boxes'][0].cpu().numpy()\n",
    "                pred_boxes = output['boxes'].cpu().numpy()\n",
    "                #print(pred_boxes)\n",
    "                #print(target_box)\n",
    "                best_iou, best_idx = find_best_iou(pred_boxes, target_box)\n",
    "                ious.append(best_iou)\n",
    "                iou_idxs.append(best_idx)\n",
    "\n",
    "                true_class = targets[i]['labels'][0].cpu().numpy()\n",
    "                if best_idx == -1:\n",
    "                    pred_class = 0\n",
    "                else:\n",
    "                    pred_class = output['labels'][best_idx].cpu().numpy()\n",
    "                true_classes.append(true_class)\n",
    "                pred_classes.append(pred_class)\n",
    "\n",
    "            mean_ious += sum(ious)/len(ious)\n",
    "            mean_acc += sum([1 if true_classes[i] == pred_classes[i] else 0 for i in range(len(true_classes))])/len(true_classes)\n",
    "    H['val_ious'].append(mean_ious/len(val_dataloader))\n",
    "    H['val_acc'].append(mean_acc/len(val_dataloader))\n",
    "    print(f\"Epoch {epoch + 1} Mean IOU: {mean_ious/len(val_dataloader)}\")\n",
    "    print(f\"Epoch {epoch + 1} Mean Accuracy: {mean_acc/len(val_dataloader)}\")"
   ]
  },
  {
   "cell_type": "code",
   "execution_count": null,
   "metadata": {},
   "outputs": [
    {
     "name": "stderr",
     "output_type": "stream",
     "text": [
      "100%|██████████| 25/25 [00:00<00:00, 39.05it/s]"
     ]
    },
    {
     "name": "stdout",
     "output_type": "stream",
     "text": [
      "{1, 2, 3, 4, 5, 6, 7, 8, 9, 10, 11, 12, 13, 14, 15, 16, 17, 18, 19, 20, 21, 22, 23, 24, 25, 26}\n"
     ]
    },
    {
     "name": "stderr",
     "output_type": "stream",
     "text": [
      "\n"
     ]
    }
   ],
   "source": [
    "# save the model\n",
    "\n",
    "if not os.path.exists('models'):\n",
    "    os.makedirs('models')\n",
    "torch.save(model.state_dict(), 'models/trained_model.pth')"
   ]
  },
  {
   "cell_type": "code",
   "execution_count": null,
   "metadata": {},
   "outputs": [
    {
     "name": "stderr",
     "output_type": "stream",
     "text": [
      "100%|██████████| 18/18 [00:07<00:00,  2.50it/s]"
     ]
    },
    {
     "name": "stdout",
     "output_type": "stream",
     "text": [
      "Test Mean IOU: 0.5485976952218569\n",
      "Test Mean Accuracy: 0.041666666666666664\n"
     ]
    },
    {
     "name": "stderr",
     "output_type": "stream",
     "text": [
      "\n"
     ]
    }
   ],
   "source": [
    "# test the model\n",
    "\n",
    "model.eval()\n",
    "mean_ious = 0.0\n",
    "mean_acc = 0.0\n",
    "overall_true_classes = []\n",
    "overall_pred_classes = []\n",
    "\n",
    "with torch.no_grad():\n",
    "    for images, targets in tqdm(test_dataloader):\n",
    "        images = list(image.to(device) for image in images)\n",
    "        targets = [{k: v.to(device) for k, v in t.items()} for t in targets]\n",
    "\n",
    "        outputs = model(images)\n",
    "        #print(outputs)\n",
    "\n",
    "        ious = []\n",
    "        iou_idxs = []\n",
    "        true_classes = []\n",
    "        pred_classes = []\n",
    "\n",
    "        for i, output in enumerate(outputs):\n",
    "            target_box = targets[i]['boxes'][0].cpu().numpy()\n",
    "            pred_boxes = output['boxes'].cpu().numpy()\n",
    "            #print(pred_boxes)\n",
    "            #print(target_box)\n",
    "            best_iou, best_idx = find_best_iou(pred_boxes, target_box)\n",
    "            ious.append(best_iou)\n",
    "            iou_idxs.append(best_idx)\n",
    "\n",
    "            true_class = targets[i]['labels'][0].cpu().numpy()\n",
    "            if best_idx == -1:\n",
    "                pred_class = 0\n",
    "            else:\n",
    "                pred_class = output['labels'][best_idx].cpu().numpy()\n",
    "            true_classes.append(true_class)\n",
    "            pred_classes.append(pred_class)\n",
    "\n",
    "        mean_ious += sum(ious)/len(ious)\n",
    "        mean_acc += sum([1 if true_classes[i] == pred_classes[i] else 0 for i in range(len(true_classes))])/len(true_classes)\n",
    "        overall_true_classes.extend(true_classes)\n",
    "        overall_pred_classes.extend(pred_classes)\n",
    "print(f\"Test Mean IOU: {mean_ious/len(test_dataloader)}\")\n",
    "print(f\"Test Mean Accuracy: {mean_acc/len(test_dataloader)}\")"
   ]
  },
  {
   "cell_type": "code",
   "execution_count": null,
   "metadata": {},
   "outputs": [
    {
     "name": "stdout",
     "output_type": "stream",
     "text": [
      "[[0 0 0 0 0]\n",
      " [0 0 0 0 0]\n",
      " [1 0 0 0 0]\n",
      " [1 0 0 0 0]\n",
      " [1 1 0 0 0]]\n"
     ]
    }
   ],
   "source": [
    "# confusion matrix\n",
    "from sklearn.metrics import confusion_matrix\n",
    "\n",
    "cm = confusion_matrix(true_classes, pred_classes)\n",
    "print(cm)"
   ]
  },
  {
   "cell_type": "markdown",
   "metadata": {},
   "source": [
    "## Plotting"
   ]
  },
  {
   "cell_type": "code",
   "execution_count": null,
   "metadata": {},
   "outputs": [
    {
     "data": {
      "image/png": "[encoded data removed]",
      "text/plain": [
       "<Figure size 640x480 with 1 Axes>"
      ]
     },
     "metadata": {},
     "output_type": "display_data"
    }
   ],
   "source": [
    "# training and validation loss\n",
    "\n",
    "plt.plot(H['train_loss'], label='train_loss')\n",
    "plt.xlabel('Epoch')\n",
    "plt.ylabel('Loss')\n",
    "plt.legend()\n",
    "plt.title('Training Loss VS Epoch')\n",
    "plt.savefig('training_loss.png')\n",
    "plt.show()"
   ]
  },
  {
   "cell_type": "code",
   "execution_count": null,
   "metadata": {},
   "outputs": [
    {
     "data": {
      "image/png": "[encoded data removed]",
      "text/plain": [
       "<Figure size 640x480 with 1 Axes>"
      ]
     },
     "metadata": {},
     "output_type": "display_data"
    }
   ],
   "source": [
    "# validation iou\n",
    "\n",
    "plt.plot(H['val_ious'], label='val_ious')\n",
    "plt.xlabel('Epoch')\n",
    "plt.ylabel('IOU')\n",
    "plt.legend()\n",
    "plt.title('Validation IOU VS Epoch')\n",
    "plt.savefig('validation_iou.png')\n",
    "plt.show()"
   ]
  },
  {
   "cell_type": "code",
   "execution_count": null,
   "metadata": {},
   "outputs": [
    {
     "data": {
      "image/png": "[encoded data removed]",
      "text/plain": [
       "<Figure size 640x480 with 1 Axes>"
      ]
     },
     "metadata": {},
     "output_type": "display_data"
    }
   ],
   "source": [
    "# validation accuracy\n",
    "\n",
    "plt.plot(H['val_acc'], label='val_acc')\n",
    "plt.xlabel('Epoch')\n",
    "plt.ylabel('Accuracy')\n",
    "plt.legend()\n",
    "plt.title('Validation Accuracy VS Epoch')\n",
    "plt.savefig('validation_accuracy.png')\n",
    "plt.show()"
   ]
  },
  {
   "cell_type": "code",
   "execution_count": null,
   "metadata": {},
   "outputs": [
    {
     "data": {
      "image/png": "[encoded data removed]",
      "text/plain": [
       "<Figure size 640x480 with 4 Axes>"
      ]
     },
     "metadata": {},
     "output_type": "display_data"
    }
   ],
   "source": [
    "# 4 loss subplots\n",
    "\n",
    "plt.subplot(2, 2, 1)\n",
    "plt.plot(H['loss_classifier'], label='loss_classifier')\n",
    "plt.xlabel('Epoch')\n",
    "plt.ylabel('Loss')\n",
    "plt.legend()\n",
    "plt.title('Loss Classifier VS Epoch')\n",
    "\n",
    "plt.subplot(2, 2, 2)\n",
    "plt.plot(H['loss_box_reg'], label='loss_box_reg')\n",
    "plt.xlabel('Epoch')\n",
    "plt.ylabel('Loss')\n",
    "plt.legend()\n",
    "plt.title('Loss Box Reg VS Epoch')\n",
    "\n",
    "plt.subplot(2, 2, 3)\n",
    "plt.plot(H['loss_objectness'], label='loss_objectness')\n",
    "plt.xlabel('Epoch')\n",
    "plt.ylabel('Loss')\n",
    "plt.legend()\n",
    "plt.title('Loss Objectness VS Epoch')\n",
    "\n",
    "plt.subplot(2, 2, 4)\n",
    "plt.plot(H['loss_rpn_box_reg'], label='loss_rpn_box_reg')\n",
    "plt.xlabel('Epoch')\n",
    "plt.ylabel('Loss')\n",
    "plt.legend()\n",
    "plt.title('Loss RPN Box Reg VS Epoch')\n",
    "\n",
    "plt.tight_layout()\n",
    "plt.savefig('loss_subplots.png')\n",
    "plt.show()\n"
   ]
  },
  {
   "cell_type": "code",
   "execution_count": 1,
   "metadata": {},
   "outputs": [],
   "source": [
    "# directly train a model\n",
    "from torchvision.models.detection import FasterRCNN\n",
    "from torchvision.models.detection.rpn import AnchorGenerator"
   ]
  },
  {
   "cell_type": "code",
   "execution_count": 3,
   "metadata": {},
   "outputs": [
    {
     "name": "stderr",
     "output_type": "stream",
     "text": [
      "c:\\Users\\tiany\\anaconda3\\Lib\\site-packages\\torchvision\\models\\_utils.py:208: UserWarning: The parameter 'pretrained' is deprecated since 0.13 and may be removed in the future, please use 'weights' instead.\n",
      "  warnings.warn(\n",
      "c:\\Users\\tiany\\anaconda3\\Lib\\site-packages\\torchvision\\models\\_utils.py:223: UserWarning: Arguments other than a weight enum or `None` for 'weights' are deprecated since 0.13 and may be removed in the future. The current behavior is equivalent to passing `weights=None`.\n",
      "  warnings.warn(msg)\n"
     ]
    }
   ],
   "source": [
    "backbone = torchvision.models.mobilenet_v2(pretrained=False).features\n",
    "backbone.out_channels = 1280\n",
    "\n",
    "anchor_generator = AnchorGenerator(sizes=((32, 64, 128, 256, 512),),\n",
    "                                      aspect_ratios=((0.5, 1.0, 2.0),))\n",
    "\n",
    "roi_pooler = torchvision.ops.MultiScaleRoIAlign(featmap_names=[0],\n",
    "                                                output_size=7,\n",
    "                                                sampling_ratio=2)\n",
    "model = FasterRCNN(backbone,\n",
    "                     num_classes=27,\n",
    "                     rpn_anchor_generator=anchor_generator,\n",
    "                     box_roi_pool=roi_pooler)\n"
   ]
  },
  {
   "cell_type": "code",
   "execution_count": 4,
   "metadata": {},
   "outputs": [
    {
     "ename": "NameError",
     "evalue": "name 'device' is not defined",
     "output_type": "error",
     "traceback": [
      "\u001b[1;31m---------------------------------------------------------------------------\u001b[0m",
      "\u001b[1;31mNameError\u001b[0m                                 Traceback (most recent call last)",
      "\u001b[1;32md:\\github_staff\\ASL_539_Project\\asl_detection_1.ipynb Cell 30\u001b[0m line \u001b[0;36m2\n\u001b[0;32m      <a href='vscode-notebook-cell:/d%3A/github_staff/ASL_539_Project/asl_detection_1.ipynb#X41sZmlsZQ%3D%3D?line=0'>1</a>\u001b[0m \u001b[39m# training preparation\u001b[39;00m\n\u001b[1;32m----> <a href='vscode-notebook-cell:/d%3A/github_staff/ASL_539_Project/asl_detection_1.ipynb#X41sZmlsZQ%3D%3D?line=1'>2</a>\u001b[0m model\u001b[39m.\u001b[39mto(device)\n\u001b[0;32m      <a href='vscode-notebook-cell:/d%3A/github_staff/ASL_539_Project/asl_detection_1.ipynb#X41sZmlsZQ%3D%3D?line=2'>3</a>\u001b[0m optimizer \u001b[39m=\u001b[39m optim\u001b[39m.\u001b[39mAdam(model\u001b[39m.\u001b[39mparameters(), lr\u001b[39m=\u001b[39m\u001b[39m0.001\u001b[39m)\n\u001b[0;32m      <a href='vscode-notebook-cell:/d%3A/github_staff/ASL_539_Project/asl_detection_1.ipynb#X41sZmlsZQ%3D%3D?line=3'>4</a>\u001b[0m epochs \u001b[39m=\u001b[39m \u001b[39m10\u001b[39m\n",
      "\u001b[1;31mNameError\u001b[0m: name 'device' is not defined"
     ]
    }
   ],
   "source": [
    "# training preparation\n",
    "model.to(device)\n",
    "optimizer = optim.Adam(model.parameters(), lr=0.001)\n",
    "epochs = 10\n",
    "\n",
    "H = {}\n",
    "H['train_loss'] = []\n",
    "H['val_ious'] = []\n",
    "H['val_acc'] = []\n",
    "H['loss_classifier'] = []\n",
    "H['loss_box_reg'] = []\n",
    "H['loss_objectness'] = []\n",
    "H['loss_rpn_box_reg'] = []"
   ]
  },
  {
   "cell_type": "code",
   "execution_count": null,
   "metadata": {},
   "outputs": [],
   "source": [
    "for epoch in range(epochs):\n",
    "    model.train()\n",
    "    train_loss = 0.0\n",
    "    loss_classifier = 0.0\n",
    "    loss_box_reg = 0.0\n",
    "    loss_objectness = 0.0\n",
    "    loss_rpn_box_reg = 0.0\n",
    "    for images, targets in tqdm(train_dataloader):\n",
    "        optimizer.zero_grad()\n",
    "        images = list(image.to(device) for image in images)\n",
    "        \n",
    "        \n",
    "        targets = [{k: v.to(device) for k, v in t.items()} for t in targets]\n",
    "\n",
    "        #print(len(images))\n",
    "        #print(len(targets))\n",
    "        loss_dict = model(images, targets)\n",
    "        #print('targets: ', targets)\n",
    "        #print(loss_dict)\n",
    "        losses = sum(loss for loss in loss_dict.values())\n",
    "\n",
    "        losses.backward()\n",
    "        optimizer.step()\n",
    "\n",
    "        train_loss += losses.item()\n",
    "        loss_classifier += loss_dict['loss_classifier'].item()\n",
    "        loss_box_reg += loss_dict['loss_box_reg'].item()\n",
    "        loss_objectness += loss_dict['loss_objectness'].item()\n",
    "        loss_rpn_box_reg += loss_dict['loss_rpn_box_reg'].item()\n",
    "    print(f\"Epoch {epoch + 1} Loss: {train_loss/len(train_dataloader)}\")\n",
    "    H[\"train_loss\"].append(train_loss/len(train_dataloader))\n",
    "    H[\"loss_classifier\"].append(loss_classifier/len(train_dataloader))\n",
    "    H[\"loss_box_reg\"].append(loss_box_reg/len(train_dataloader))\n",
    "    H[\"loss_objectness\"].append(loss_objectness/len(train_dataloader))\n",
    "    H[\"loss_rpn_box_reg\"].append(loss_rpn_box_reg/len(train_dataloader))\n",
    "\n",
    "    model.eval()\n",
    "    mean_ious = 0.0\n",
    "    mean_acc = 0.0\n",
    "    \n",
    "    with torch.no_grad():\n",
    "        for images, targets in tqdm(val_dataloader):\n",
    "            images = list(image.to(device) for image in images)\n",
    "            targets = [{k: v.to(device) for k, v in t.items()} for t in targets]\n",
    "\n",
    "            outputs = model(images)\n",
    "            #print(outputs)\n",
    "\n",
    "            ious = []\n",
    "            iou_idxs = []\n",
    "            true_classes = []\n",
    "            pred_classes = []\n",
    "\n",
    "            for i, output in enumerate(outputs):\n",
    "                target_box = targets[i]['boxes'][0].cpu().numpy()\n",
    "                pred_boxes = output['boxes'].cpu().numpy()\n",
    "                #print(pred_boxes)\n",
    "                #print(target_box)\n",
    "                best_iou, best_idx = find_best_iou(pred_boxes, target_box)\n",
    "                ious.append(best_iou)\n",
    "                iou_idxs.append(best_idx)\n",
    "\n",
    "                true_class = targets[i]['labels'][0].cpu().numpy()\n",
    "                if best_idx == -1:\n",
    "                    pred_class = 0\n",
    "                else:\n",
    "                    pred_class = output['labels'][best_idx].cpu().numpy()\n",
    "                true_classes.append(true_class)\n",
    "                pred_classes.append(pred_class)\n",
    "\n",
    "            mean_ious += sum(ious)/len(ious)\n",
    "            mean_acc += sum([1 if true_classes[i] == pred_classes[i] else 0 for i in range(len(true_classes))])/len(true_classes)\n",
    "    H['val_ious'].append(mean_ious/len(val_dataloader))\n",
    "    H['val_acc'].append(mean_acc/len(val_dataloader))\n",
    "    print(f\"Epoch {epoch + 1} Mean IOU: {mean_ious/len(val_dataloader)}\")\n",
    "    print(f\"Epoch {epoch + 1} Mean Accuracy: {mean_acc/len(val_dataloader)}\")"
   ]
  },
  {
   "cell_type": "code",
   "execution_count": null,
   "metadata": {},
   "outputs": [],
   "source": [
    "# save the model\n",
    "\n",
    "if not os.path.exists('models'):\n",
    "    os.makedirs('models')\n",
    "torch.save(model.state_dict(), 'models/trained_model_2.pth')"
   ]
  },
  {
   "cell_type": "code",
   "execution_count": null,
   "metadata": {},
   "outputs": [],
   "source": [
    "# test the model\n",
    "\n",
    "model.eval()\n",
    "mean_ious = 0.0\n",
    "mean_acc = 0.0\n",
    "overall_true_classes = []\n",
    "overall_pred_classes = []\n",
    "\n",
    "with torch.no_grad():\n",
    "    for images, targets in tqdm(test_dataloader):\n",
    "        images = list(image.to(device) for image in images)\n",
    "        targets = [{k: v.to(device) for k, v in t.items()} for t in targets]\n",
    "\n",
    "        outputs = model(images)\n",
    "        #print(outputs)\n",
    "\n",
    "        ious = []\n",
    "        iou_idxs = []\n",
    "        true_classes = []\n",
    "        pred_classes = []\n",
    "\n",
    "        for i, output in enumerate(outputs):\n",
    "            target_box = targets[i]['boxes'][0].cpu().numpy()\n",
    "            pred_boxes = output['boxes'].cpu().numpy()\n",
    "            #print(pred_boxes)\n",
    "            #print(target_box)\n",
    "            best_iou, best_idx = find_best_iou(pred_boxes, target_box)\n",
    "            ious.append(best_iou)\n",
    "            iou_idxs.append(best_idx)\n",
    "\n",
    "            true_class = targets[i]['labels'][0].cpu().numpy()\n",
    "            if best_idx == -1:\n",
    "                pred_class = 0\n",
    "            else:\n",
    "                pred_class = output['labels'][best_idx].cpu().numpy()\n",
    "            true_classes.append(true_class)\n",
    "            pred_classes.append(pred_class)\n",
    "\n",
    "        mean_ious += sum(ious)/len(ious)\n",
    "        mean_acc += sum([1 if true_classes[i] == pred_classes[i] else 0 for i in range(len(true_classes))])/len(true_classes)\n",
    "        overall_true_classes.extend(true_classes)\n",
    "        overall_pred_classes.extend(pred_classes)\n",
    "print(f\"Test Mean IOU: {mean_ious/len(test_dataloader)}\")\n",
    "print(f\"Test Mean Accuracy: {mean_acc/len(test_dataloader)}\")"
   ]
  },
  {
   "cell_type": "code",
   "execution_count": null,
   "metadata": {},
   "outputs": [],
   "source": [
    "# training and validation loss\n",
    "\n",
    "plt.plot(H['train_loss'], label='train_loss')\n",
    "plt.xlabel('Epoch')\n",
    "plt.ylabel('Loss')\n",
    "plt.legend()\n",
    "plt.title('Training Loss VS Epoch')\n",
    "plt.savefig('training_loss.png')\n",
    "plt.show()"
   ]
  },
  {
   "cell_type": "code",
   "execution_count": null,
   "metadata": {},
   "outputs": [],
   "source": [
    "# validation iou\n",
    "\n",
    "plt.plot(H['val_ious'], label='val_ious')\n",
    "plt.xlabel('Epoch')\n",
    "plt.ylabel('IOU')\n",
    "plt.legend()\n",
    "plt.title('Validation IOU VS Epoch')\n",
    "plt.savefig('validation_iou.png')\n",
    "plt.show()"
   ]
  },
  {
   "cell_type": "code",
   "execution_count": null,
   "metadata": {},
   "outputs": [],
   "source": [
    "# validation accuracy\n",
    "\n",
    "plt.plot(H['val_acc'], label='val_acc')\n",
    "plt.xlabel('Epoch')\n",
    "plt.ylabel('Accuracy')\n",
    "plt.legend()\n",
    "plt.title('Validation Accuracy VS Epoch')\n",
    "plt.savefig('validation_accuracy.png')\n",
    "plt.show()"
   ]
  },
  {
   "cell_type": "code",
   "execution_count": null,
   "metadata": {},
   "outputs": [],
   "source": [
    "# 4 loss subplots\n",
    "\n",
    "plt.subplot(2, 2, 1)\n",
    "plt.plot(H['loss_classifier'], label='loss_classifier')\n",
    "plt.xlabel('Epoch')\n",
    "plt.ylabel('Loss')\n",
    "plt.legend()\n",
    "plt.title('Loss Classifier VS Epoch')\n",
    "\n",
    "plt.subplot(2, 2, 2)\n",
    "plt.plot(H['loss_box_reg'], label='loss_box_reg')\n",
    "plt.xlabel('Epoch')\n",
    "plt.ylabel('Loss')\n",
    "plt.legend()\n",
    "plt.title('Loss Box Reg VS Epoch')\n",
    "\n",
    "plt.subplot(2, 2, 3)\n",
    "plt.plot(H['loss_objectness'], label='loss_objectness')\n",
    "plt.xlabel('Epoch')\n",
    "plt.ylabel('Loss')\n",
    "plt.legend()\n",
    "plt.title('Loss Objectness VS Epoch')\n",
    "\n",
    "plt.subplot(2, 2, 4)\n",
    "plt.plot(H['loss_rpn_box_reg'], label='loss_rpn_box_reg')\n",
    "plt.xlabel('Epoch')\n",
    "plt.ylabel('Loss')\n",
    "plt.legend()\n",
    "plt.title('Loss RPN Box Reg VS Epoch')\n",
    "\n",
    "plt.tight_layout()\n",
    "plt.savefig('loss_subplots.png')\n",
    "plt.show()\n"
   ]
  },
  {
   "cell_type": "markdown",
   "metadata": {},
   "source": [
    "## Visualization"
   ]
  },
  {
   "cell_type": "code",
   "execution_count": 4,
   "metadata": {},
   "outputs": [
    {
     "data": {
      "text/plain": [
       "False"
      ]
     },
     "execution_count": 4,
     "metadata": {},
     "output_type": "execute_result"
    }
   ],
   "source": [
    "torch.cuda.is_available()"
   ]
  },
  {
   "cell_type": "code",
   "execution_count": 3,
   "metadata": {},
   "outputs": [
    {
     "ename": "RuntimeError",
     "evalue": "Attempting to deserialize object on a CUDA device but torch.cuda.is_available() is False. If you are running on a CPU-only machine, please use torch.load with map_location=torch.device('cpu') to map your storages to the CPU.",
     "output_type": "error",
     "traceback": [
      "\u001b[1;31m---------------------------------------------------------------------------\u001b[0m",
      "\u001b[1;31mRuntimeError\u001b[0m                              Traceback (most recent call last)",
      "\u001b[1;32md:\\github_staff\\ASL_539_Project\\asl_detection_1.ipynb Cell 39\u001b[0m line \u001b[0;36m2\n\u001b[0;32m      <a href='vscode-notebook-cell:/d%3A/github_staff/ASL_539_Project/asl_detection_1.ipynb#X52sZmlsZQ%3D%3D?line=0'>1</a>\u001b[0m \u001b[39m# load best model\u001b[39;00m\n\u001b[1;32m----> <a href='vscode-notebook-cell:/d%3A/github_staff/ASL_539_Project/asl_detection_1.ipynb#X52sZmlsZQ%3D%3D?line=1'>2</a>\u001b[0m model \u001b[39m=\u001b[39m torch\u001b[39m.\u001b[39mload(\u001b[39m'\u001b[39m\u001b[39mbest-model-parameters.pth\u001b[39m\u001b[39m'\u001b[39m)\n",
      "File \u001b[1;32mc:\\Users\\tiany\\anaconda3\\Lib\\site-packages\\torch\\serialization.py:1014\u001b[0m, in \u001b[0;36mload\u001b[1;34m(f, map_location, pickle_module, weights_only, mmap, **pickle_load_args)\u001b[0m\n\u001b[0;32m   1012\u001b[0m             \u001b[39mexcept\u001b[39;00m \u001b[39mRuntimeError\u001b[39;00m \u001b[39mas\u001b[39;00m e:\n\u001b[0;32m   1013\u001b[0m                 \u001b[39mraise\u001b[39;00m pickle\u001b[39m.\u001b[39mUnpicklingError(UNSAFE_MESSAGE \u001b[39m+\u001b[39m \u001b[39mstr\u001b[39m(e)) \u001b[39mfrom\u001b[39;00m \u001b[39mNone\u001b[39;00m\n\u001b[1;32m-> 1014\u001b[0m         \u001b[39mreturn\u001b[39;00m _load(opened_zipfile,\n\u001b[0;32m   1015\u001b[0m                      map_location,\n\u001b[0;32m   1016\u001b[0m                      pickle_module,\n\u001b[0;32m   1017\u001b[0m                      overall_storage\u001b[39m=\u001b[39moverall_storage,\n\u001b[0;32m   1018\u001b[0m                      \u001b[39m*\u001b[39m\u001b[39m*\u001b[39mpickle_load_args)\n\u001b[0;32m   1019\u001b[0m \u001b[39mif\u001b[39;00m mmap:\n\u001b[0;32m   1020\u001b[0m     \u001b[39mraise\u001b[39;00m \u001b[39mRuntimeError\u001b[39;00m(\u001b[39m\"\u001b[39m\u001b[39mmmap can only be used with files saved with \u001b[39m\u001b[39m\"\u001b[39m,\n\u001b[0;32m   1021\u001b[0m                        \u001b[39m\"\u001b[39m\u001b[39m`torch.save(_use_new_zipfile_serialization=True), \u001b[39m\u001b[39m\"\u001b[39m\n\u001b[0;32m   1022\u001b[0m                        \u001b[39m\"\u001b[39m\u001b[39mplease torch.save your checkpoint with this option in order to use mmap.\u001b[39m\u001b[39m\"\u001b[39m)\n",
      "File \u001b[1;32mc:\\Users\\tiany\\anaconda3\\Lib\\site-packages\\torch\\serialization.py:1422\u001b[0m, in \u001b[0;36m_load\u001b[1;34m(zip_file, map_location, pickle_module, pickle_file, overall_storage, **pickle_load_args)\u001b[0m\n\u001b[0;32m   1420\u001b[0m unpickler \u001b[39m=\u001b[39m UnpicklerWrapper(data_file, \u001b[39m*\u001b[39m\u001b[39m*\u001b[39mpickle_load_args)\n\u001b[0;32m   1421\u001b[0m unpickler\u001b[39m.\u001b[39mpersistent_load \u001b[39m=\u001b[39m persistent_load\n\u001b[1;32m-> 1422\u001b[0m result \u001b[39m=\u001b[39m unpickler\u001b[39m.\u001b[39mload()\n\u001b[0;32m   1424\u001b[0m torch\u001b[39m.\u001b[39m_utils\u001b[39m.\u001b[39m_validate_loaded_sparse_tensors()\n\u001b[0;32m   1425\u001b[0m torch\u001b[39m.\u001b[39m_C\u001b[39m.\u001b[39m_log_api_usage_metadata(\n\u001b[0;32m   1426\u001b[0m     \u001b[39m\"\u001b[39m\u001b[39mtorch.load.metadata\u001b[39m\u001b[39m\"\u001b[39m, {\u001b[39m\"\u001b[39m\u001b[39mserialization_id\u001b[39m\u001b[39m\"\u001b[39m: zip_file\u001b[39m.\u001b[39mserialization_id()}\n\u001b[0;32m   1427\u001b[0m )\n",
      "File \u001b[1;32mc:\\Users\\tiany\\anaconda3\\Lib\\site-packages\\torch\\serialization.py:1392\u001b[0m, in \u001b[0;36m_load.<locals>.persistent_load\u001b[1;34m(saved_id)\u001b[0m\n\u001b[0;32m   1390\u001b[0m \u001b[39melse\u001b[39;00m:\n\u001b[0;32m   1391\u001b[0m     nbytes \u001b[39m=\u001b[39m numel \u001b[39m*\u001b[39m torch\u001b[39m.\u001b[39m_utils\u001b[39m.\u001b[39m_element_size(dtype)\n\u001b[1;32m-> 1392\u001b[0m     typed_storage \u001b[39m=\u001b[39m load_tensor(dtype, nbytes, key, _maybe_decode_ascii(location))\n\u001b[0;32m   1394\u001b[0m \u001b[39mreturn\u001b[39;00m typed_storage\n",
      "File \u001b[1;32mc:\\Users\\tiany\\anaconda3\\Lib\\site-packages\\torch\\serialization.py:1366\u001b[0m, in \u001b[0;36m_load.<locals>.load_tensor\u001b[1;34m(dtype, numel, key, location)\u001b[0m\n\u001b[0;32m   1361\u001b[0m         storage\u001b[39m.\u001b[39mbyteswap(dtype)\n\u001b[0;32m   1363\u001b[0m \u001b[39m# TODO: Once we decide to break serialization FC, we can\u001b[39;00m\n\u001b[0;32m   1364\u001b[0m \u001b[39m# stop wrapping with TypedStorage\u001b[39;00m\n\u001b[0;32m   1365\u001b[0m typed_storage \u001b[39m=\u001b[39m torch\u001b[39m.\u001b[39mstorage\u001b[39m.\u001b[39mTypedStorage(\n\u001b[1;32m-> 1366\u001b[0m     wrap_storage\u001b[39m=\u001b[39mrestore_location(storage, location),\n\u001b[0;32m   1367\u001b[0m     dtype\u001b[39m=\u001b[39mdtype,\n\u001b[0;32m   1368\u001b[0m     _internal\u001b[39m=\u001b[39m\u001b[39mTrue\u001b[39;00m)\n\u001b[0;32m   1370\u001b[0m \u001b[39mif\u001b[39;00m typed_storage\u001b[39m.\u001b[39m_data_ptr() \u001b[39m!=\u001b[39m \u001b[39m0\u001b[39m:\n\u001b[0;32m   1371\u001b[0m     loaded_storages[key] \u001b[39m=\u001b[39m typed_storage\n",
      "File \u001b[1;32mc:\\Users\\tiany\\anaconda3\\Lib\\site-packages\\torch\\serialization.py:381\u001b[0m, in \u001b[0;36mdefault_restore_location\u001b[1;34m(storage, location)\u001b[0m\n\u001b[0;32m    379\u001b[0m \u001b[39mdef\u001b[39;00m \u001b[39mdefault_restore_location\u001b[39m(storage, location):\n\u001b[0;32m    380\u001b[0m     \u001b[39mfor\u001b[39;00m _, _, fn \u001b[39min\u001b[39;00m _package_registry:\n\u001b[1;32m--> 381\u001b[0m         result \u001b[39m=\u001b[39m fn(storage, location)\n\u001b[0;32m    382\u001b[0m         \u001b[39mif\u001b[39;00m result \u001b[39mis\u001b[39;00m \u001b[39mnot\u001b[39;00m \u001b[39mNone\u001b[39;00m:\n\u001b[0;32m    383\u001b[0m             \u001b[39mreturn\u001b[39;00m result\n",
      "File \u001b[1;32mc:\\Users\\tiany\\anaconda3\\Lib\\site-packages\\torch\\serialization.py:274\u001b[0m, in \u001b[0;36m_cuda_deserialize\u001b[1;34m(obj, location)\u001b[0m\n\u001b[0;32m    272\u001b[0m \u001b[39mdef\u001b[39;00m \u001b[39m_cuda_deserialize\u001b[39m(obj, location):\n\u001b[0;32m    273\u001b[0m     \u001b[39mif\u001b[39;00m location\u001b[39m.\u001b[39mstartswith(\u001b[39m'\u001b[39m\u001b[39mcuda\u001b[39m\u001b[39m'\u001b[39m):\n\u001b[1;32m--> 274\u001b[0m         device \u001b[39m=\u001b[39m validate_cuda_device(location)\n\u001b[0;32m    275\u001b[0m         \u001b[39mif\u001b[39;00m \u001b[39mgetattr\u001b[39m(obj, \u001b[39m\"\u001b[39m\u001b[39m_torch_load_uninitialized\u001b[39m\u001b[39m\"\u001b[39m, \u001b[39mFalse\u001b[39;00m):\n\u001b[0;32m    276\u001b[0m             \u001b[39mwith\u001b[39;00m torch\u001b[39m.\u001b[39mcuda\u001b[39m.\u001b[39mdevice(device):\n",
      "File \u001b[1;32mc:\\Users\\tiany\\anaconda3\\Lib\\site-packages\\torch\\serialization.py:258\u001b[0m, in \u001b[0;36mvalidate_cuda_device\u001b[1;34m(location)\u001b[0m\n\u001b[0;32m    255\u001b[0m device \u001b[39m=\u001b[39m torch\u001b[39m.\u001b[39mcuda\u001b[39m.\u001b[39m_utils\u001b[39m.\u001b[39m_get_device_index(location, \u001b[39mTrue\u001b[39;00m)\n\u001b[0;32m    257\u001b[0m \u001b[39mif\u001b[39;00m \u001b[39mnot\u001b[39;00m torch\u001b[39m.\u001b[39mcuda\u001b[39m.\u001b[39mis_available():\n\u001b[1;32m--> 258\u001b[0m     \u001b[39mraise\u001b[39;00m \u001b[39mRuntimeError\u001b[39;00m(\u001b[39m'\u001b[39m\u001b[39mAttempting to deserialize object on a CUDA \u001b[39m\u001b[39m'\u001b[39m\n\u001b[0;32m    259\u001b[0m                        \u001b[39m'\u001b[39m\u001b[39mdevice but torch.cuda.is_available() is False. \u001b[39m\u001b[39m'\u001b[39m\n\u001b[0;32m    260\u001b[0m                        \u001b[39m'\u001b[39m\u001b[39mIf you are running on a CPU-only machine, \u001b[39m\u001b[39m'\u001b[39m\n\u001b[0;32m    261\u001b[0m                        \u001b[39m'\u001b[39m\u001b[39mplease use torch.load with map_location=torch.device(\u001b[39m\u001b[39m\\'\u001b[39;00m\u001b[39mcpu\u001b[39m\u001b[39m\\'\u001b[39;00m\u001b[39m) \u001b[39m\u001b[39m'\u001b[39m\n\u001b[0;32m    262\u001b[0m                        \u001b[39m'\u001b[39m\u001b[39mto map your storages to the CPU.\u001b[39m\u001b[39m'\u001b[39m)\n\u001b[0;32m    263\u001b[0m device_count \u001b[39m=\u001b[39m torch\u001b[39m.\u001b[39mcuda\u001b[39m.\u001b[39mdevice_count()\n\u001b[0;32m    264\u001b[0m \u001b[39mif\u001b[39;00m device \u001b[39m>\u001b[39m\u001b[39m=\u001b[39m device_count:\n",
      "\u001b[1;31mRuntimeError\u001b[0m: Attempting to deserialize object on a CUDA device but torch.cuda.is_available() is False. If you are running on a CPU-only machine, please use torch.load with map_location=torch.device('cpu') to map your storages to the CPU."
     ]
    }
   ],
   "source": [
    "# load best model\n",
    "model = torch.load('best-model-parameters.pth')"
   ]
  },
  {
   "cell_type": "code",
   "execution_count": null,
   "metadata": {},
   "outputs": [],
   "source": []
  }
 ],
 "metadata": {
  "kernelspec": {
   "display_name": "base",
   "language": "python",
   "name": "python3"
  },
  "language_info": {
   "codemirror_mode": {
    "name": "ipython",
    "version": 3
   },
   "file_extension": ".py",
   "mimetype": "text/x-python",
   "name": "python",
   "nbconvert_exporter": "python",
   "pygments_lexer": "ipython3",
   "version": "3.11.5"
  }
 },
 "nbformat": 4,
 "nbformat_minor": 2
}
